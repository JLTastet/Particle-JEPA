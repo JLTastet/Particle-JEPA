{
 "cells": [
  {
   "cell_type": "code",
   "execution_count": 1,
   "id": "07994113-8301-46a0-973e-9b9f9c5503e4",
   "metadata": {
    "tags": []
   },
   "outputs": [],
   "source": [
    "%load_ext autoreload\n",
    "%autoreload 2"
   ]
  },
  {
   "cell_type": "code",
   "execution_count": 2,
   "id": "3e51f583-3e67-4203-8316-fc1ec61eb29a",
   "metadata": {
    "tags": []
   },
   "outputs": [],
   "source": [
    "from jetrep.models import CLIP"
   ]
  },
  {
   "cell_type": "code",
   "execution_count": 3,
   "id": "7d73404c-b37b-4f85-aa9f-1504691f0d22",
   "metadata": {
    "tags": []
   },
   "outputs": [],
   "source": [
    "model = CLIP()"
   ]
  },
  {
   "cell_type": "code",
   "execution_count": 4,
   "id": "7bb8c4c4-ab77-4d40-9029-975d3f7333b6",
   "metadata": {
    "tags": []
   },
   "outputs": [],
   "source": [
    "loader = model.train_dataloader()"
   ]
  },
  {
   "cell_type": "code",
   "execution_count": 5,
   "id": "a77cb0b5-3f6a-4a9e-896a-e973bc6bd012",
   "metadata": {
    "tags": []
   },
   "outputs": [
    {
     "name": "stdout",
     "output_type": "stream",
     "text": [
      "=== Restarting DataIter train_worker0, seed=4242010307 ===\n",
      "=== Restarting DataIter train_downstream_worker0, seed=4242010307 ===\n",
      "=== Restarting DataIter train_worker2, seed=4242010309 ====== Restarting DataIter train_worker1, seed=4242010308 ===\n",
      "\n",
      "\n",
      "\n",
      "\n",
      "\n",
      "=== Restarting DataIter train_downstream_worker2, seed=4242010309 ====== Restarting DataIter train_downstream_worker1, seed=4242010308 ====== Restarting DataIter train_worker3, seed=4242010310 ====== Restarting DataIter train_worker4, seed=4242010311 ====== Restarting DataIter train_downstream_worker3, seed=4242010310 ====== Restarting DataIter train_downstream_worker4, seed=4242010311 ===\n",
      "\n",
      "=== Restarting DataIter train_worker6, seed=4242010313 ===\n",
      "=== Restarting DataIter train_worker5, seed=4242010312 ===\n",
      "=== Restarting DataIter train_downstream_worker6, seed=4242010313 ===\n",
      "=== Restarting DataIter train_downstream_worker5, seed=4242010312 ===\n",
      "=== Restarting DataIter train_worker7, seed=4242010314 ===\n",
      "=== Restarting DataIter train_downstream_worker7, seed=4242010314 ===\n"
     ]
    }
   ],
   "source": [
    "event = next(iter(loader))"
   ]
  },
  {
   "cell_type": "code",
   "execution_count": 6,
   "id": "596b82fb-ad6c-42b9-b80f-2867b4f2b677",
   "metadata": {
    "tags": []
   },
   "outputs": [],
   "source": [
    "train_emb, train_downstream = event\n",
    "train_emb = model.preprocess(train_emb)\n",
    "train_downstream = model.preprocess(train_downstream)"
   ]
  },
  {
   "cell_type": "code",
   "execution_count": 10,
   "id": "3e364f05-c1bc-4ae5-89fb-246dbb0fe61a",
   "metadata": {
    "tags": []
   },
   "outputs": [
    {
     "data": {
      "text/plain": [
       "(tensor(5.5405, grad_fn=<NllLossBackward0>),\n",
       " {'train CLIP loss': tensor(5.5405, grad_fn=<NllLossBackward0>)})"
      ]
     },
     "execution_count": 10,
     "metadata": {},
     "output_type": "execute_result"
    }
   ],
   "source": [
    "model.compute_loss(train_emb)"
   ]
  },
  {
   "cell_type": "code",
   "execution_count": null,
   "id": "359d5f20-9fa1-47dc-8d0c-406a040c1623",
   "metadata": {},
   "outputs": [],
   "source": [
    "model.embed(train_emb)"
   ]
  }
 ],
 "metadata": {
  "kernelspec": {
   "display_name": "jetrep",
   "language": "python",
   "name": "jetrep"
  },
  "language_info": {
   "codemirror_mode": {
    "name": "ipython",
    "version": 3
   },
   "file_extension": ".py",
   "mimetype": "text/x-python",
   "name": "python",
   "nbconvert_exporter": "python",
   "pygments_lexer": "ipython3",
   "version": "3.10.13"
  }
 },
 "nbformat": 4,
 "nbformat_minor": 5
}
