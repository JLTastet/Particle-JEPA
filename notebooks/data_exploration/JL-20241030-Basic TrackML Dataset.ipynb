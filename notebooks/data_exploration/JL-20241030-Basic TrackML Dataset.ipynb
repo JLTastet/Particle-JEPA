{
 "cells": [
  {
   "cell_type": "code",
   "execution_count": 1,
   "id": "f4cafd3c-8b0e-4d64-83ae-bf89661beb9d",
   "metadata": {},
   "outputs": [],
   "source": [
    "from torch.utils.data import Dataset\n",
    "import h5py\n",
    "from pathlib import Path\n",
    "from typing import Union\n",
    "from tqdm.notebook import tqdm"
   ]
  },
  {
   "cell_type": "code",
   "execution_count": 2,
   "id": "8b71c150-05cd-496c-89ce-5696b80ebb7e",
   "metadata": {},
   "outputs": [],
   "source": [
    "class TrackMLDataset(Dataset):\n",
    "\n",
    "    def __init__(\n",
    "        self,\n",
    "        file: Union[str,Path],\n",
    "        return_hits: bool=True,\n",
    "        return_cells: bool=True,\n",
    "        return_particles: bool=True,\n",
    "        return_truth: bool=True,\n",
    "    ):\n",
    "        self.file = h5py.File(file, 'r')\n",
    "        self.number_of_events = self.file.attrs['number_of_events']\n",
    "        \n",
    "        self.return_hits = return_hits\n",
    "        self.return_cells = return_cells\n",
    "        self.return_particles = return_particles\n",
    "        self.return_truth = return_truth\n",
    "\n",
    "        self.hits = self.file['hits']\n",
    "        self.cells = self.file['cells']\n",
    "        self.particles = self.file['particles']\n",
    "        self.truth = self.file['truth']\n",
    "\n",
    "    def __del__(self):\n",
    "        self.file.close()\n",
    "\n",
    "    def __len__(self):\n",
    "        return self.number_of_events\n",
    "\n",
    "    def __getitem__(self, idx: int):\n",
    "        return {\n",
    "            'hits': self._get_hits(idx),\n",
    "            'cells': self._get_cells(idx),\n",
    "            'particles': self._get_particles(idx),\n",
    "            'truth': self._get_truth(idx),\n",
    "        }\n",
    "\n",
    "    def _get_hits(self, idx: int):\n",
    "        if not self.return_hits:\n",
    "            return None\n",
    "        offset = self.hits['event_offset'][idx]\n",
    "        length = self.hits['event_length'][idx]\n",
    "        event_slice = slice(offset, offset+length)\n",
    "        hit_id = self.hits['hit_id'][event_slice]\n",
    "        x = self.hits['x'][event_slice]\n",
    "        y = self.hits['y'][event_slice]\n",
    "        z = self.hits['z'][event_slice]\n",
    "        volume_id = self.hits['volume_id'][event_slice]\n",
    "        layer_id  = self.hits[ 'layer_id'][event_slice]\n",
    "        module_id = self.hits['module_id'][event_slice]\n",
    "        return {'hit_id': hit_id, 'x': x, 'y': y, 'z': z, 'volume_id': volume_id, 'layer_id': layer_id, 'module_id': module_id}\n",
    "\n",
    "    def _get_cells(self, idx: int):\n",
    "        if not self.return_cells:\n",
    "            return None\n",
    "        offset = self.cells['event_offset'][idx]\n",
    "        length = self.cells['event_length'][idx]\n",
    "        event_slice = slice(offset, offset+length)\n",
    "        hit_id = self.cells['hit_id'][event_slice]\n",
    "        ch0 = self.cells['ch0'][event_slice]\n",
    "        ch1 = self.cells['ch1'][event_slice]\n",
    "        value = self.cells['value'][event_slice]\n",
    "        return {'hit_id': hit_id, 'ch0': ch0, 'ch1': ch1, 'value': value}\n",
    "\n",
    "    def _get_particles(self, idx: int):\n",
    "        if not self.return_particles:\n",
    "            return None\n",
    "        offset = self.particles['event_offset'][idx]\n",
    "        length = self.particles['event_length'][idx]\n",
    "        event_slice = slice(offset, offset+length)\n",
    "        particle_id = self.particles['particle_id'][event_slice]\n",
    "        particle_type = self.particles['particle_type'][event_slice]\n",
    "        vx = self.particles['vx'][event_slice]\n",
    "        vy = self.particles['vy'][event_slice]\n",
    "        vz = self.particles['vz'][event_slice]\n",
    "        px = self.particles['px'][event_slice]\n",
    "        py = self.particles['py'][event_slice]\n",
    "        pz = self.particles['pz'][event_slice]\n",
    "        q = self.particles['q'][event_slice]\n",
    "        nhits = self.particles['nhits'][event_slice]\n",
    "        return {'particle_id': particle_id, 'particle_type': particle_type, 'vx': vx, 'vy': vy, 'vz': vz, 'px': px, 'py': py, 'pz': pz, 'q': q, 'nhits': nhits}\n",
    "\n",
    "    def _get_truth(self, idx: int):\n",
    "        if not self.return_truth:\n",
    "            return None\n",
    "        offset = self.truth['event_offset'][idx]\n",
    "        length = self.truth['event_length'][idx]\n",
    "        event_slice = slice(offset, offset+length)\n",
    "        hit_id = self.truth['hit_id'][event_slice]\n",
    "        particle_id = self.truth['particle_id'][event_slice]\n",
    "        tx = self.truth['tx'][event_slice]\n",
    "        ty = self.truth['ty'][event_slice]\n",
    "        tz = self.truth['tz'][event_slice]\n",
    "        tpx = self.truth['tpx'][event_slice]\n",
    "        tpy = self.truth['tpy'][event_slice]\n",
    "        tpz = self.truth['tpz'][event_slice]\n",
    "        weight = self.truth['weight'][event_slice]\n",
    "        return {'hit_id': hit_id, 'particle_id': particle_id, 'tx': tx, 'ty': ty, 'tz': tz, 'tpx': tpx, 'tpy': tpy, 'tpz': tpz, 'weight': weight}"
   ]
  },
  {
   "cell_type": "code",
   "execution_count": 3,
   "id": "27495d2d-e5b1-46d8-8dab-d7f737fb4a16",
   "metadata": {},
   "outputs": [],
   "source": [
    "dset = TrackMLDataset('../TrackML.hdf5')"
   ]
  },
  {
   "cell_type": "code",
   "execution_count": 4,
   "id": "f82d01e0-70a2-442b-b53e-93b629607ffb",
   "metadata": {},
   "outputs": [
    {
     "data": {
      "text/plain": [
       "{'hits': {'hit_id': array([     1,      2,      3, ..., 105311, 105312, 105313], dtype=int32),\n",
       "  'x': array([ -72.7191,  -33.8991,  -61.3116, ..., -812.388 , -773.    ,\n",
       "         -971.92  ], dtype=float32),\n",
       "  'y': array([ -7.75438 ,  -1.94067 ,   0.566296, ..., 106.28    ,  71.169   ,\n",
       "          50.9279  ], dtype=float32),\n",
       "  'z': array([-1502.5, -1502.5, -1502.5, ...,  2944.5,  2944.5,  2952.5],\n",
       "        dtype=float32),\n",
       "  'volume_id': array([ 7,  7,  7, ..., 18, 18, 18], dtype=int8),\n",
       "  'layer_id': array([ 2,  2,  2, ..., 12, 12, 12], dtype=int8),\n",
       "  'module_id': array([ 1,  1,  1, ..., 97, 97, 98], dtype=int16)},\n",
       " 'cells': {'hit_id': array([     1,      1,      2, ..., 104848, 104849, 104849], dtype=int32),\n",
       "  'ch0': array([ 129,  129,  146, ..., 1010,  358,  357], dtype=int16),\n",
       "  'ch1': array([1171, 1170,  906, ...,   14,    2,    2], dtype=int16),\n",
       "  'value': array([0.0432567, 0.17901  , 0.235661 , ..., 1.       , 1.       ,\n",
       "         1.       ], dtype=float32)},\n",
       " 'particles': {'particle_id': array([  4503737066323968,   4503805785800704,   4503874505277440, ...,\n",
       "         968276050188435456, 968276393785819136, 968276737383202816]),\n",
       "  'particle_type': array([ 211,  211, -211, ..., -211, -211,  211], dtype=int16),\n",
       "  'vx': array([-0.00715247, -0.00715247, -0.00715247, ...,  0.00915572,\n",
       "          0.00915572, -0.654572  ], dtype=float32),\n",
       "  'vy': array([0.00716067, 0.00716067, 0.00716067, ..., 0.00827726, 0.00827726,\n",
       "         1.67327   ], dtype=float32),\n",
       "  'vz': array([ -26.8992,  -26.8992,  -26.8992, ...,  -96.6055,  -96.6055,\n",
       "         -101.046 ], dtype=float32),\n",
       "  'px': array([-0.711613, -2.06341 , -0.150234, ...,  0.361809, -0.105324,\n",
       "         -0.168775], dtype=float32),\n",
       "  'py': array([-0.706967, -0.812196, -0.226973, ...,  0.449189, -0.296325,\n",
       "          0.308196], dtype=float32),\n",
       "  'pz': array([-3.53311 , -9.49867 , -0.595733, ..., -0.821802, -1.0181  ,\n",
       "         -0.330019], dtype=float32),\n",
       "  'q': array([ 1,  1, -1, ..., -1, -1,  1], dtype=int8),\n",
       "  'nhits': array([13, 12, 10, ..., 11, 11, 12], dtype=int8)},\n",
       " 'truth': {'hit_id': array([     1,      2,      3, ..., 113006, 113007, 113008], dtype=int32),\n",
       "  'particle_id': array([571961275844657152, 626005708323684352, 216174637539655680, ...,\n",
       "          58550437288083456,  67559079651835904, 351299050315710464]),\n",
       "  'tx': array([ -74.7809,  -51.374 ,  -87.2059, ..., -872.541 , -916.584 ,\n",
       "         -937.808 ], dtype=float32),\n",
       "  'ty': array([ -4.04789, -10.1352 ,  -9.51235, ...,  85.9448 , 106.116  ,\n",
       "          92.9229 ], dtype=float32),\n",
       "  'tz': array([-1502.5, -1502.5, -1502.5, ...,  2952.5,  2952.5,  2952.5],\n",
       "        dtype=float32),\n",
       "  'tpx': array([-0.615225, -0.243002, -0.301189, ..., -0.625836, -0.530806,\n",
       "         -0.41468 ], dtype=float32),\n",
       "  'tpy': array([-0.0110058 , -0.0643773 , -0.00372128, ..., -0.039272  ,\n",
       "         -0.0342973 , -0.0624874 ], dtype=float32),\n",
       "  'tpz': array([-12.2701 ,  -6.92457,  -5.2207 , ...,   2.19111,   1.79045,\n",
       "           1.45207], dtype=float32),\n",
       "  'weight': array([9.77299e-06, 1.17219e-05, 8.88622e-06, ..., 9.97535e-06,\n",
       "         9.52997e-06, 9.66958e-06], dtype=float32)}}"
      ]
     },
     "execution_count": 4,
     "metadata": {},
     "output_type": "execute_result"
    }
   ],
   "source": [
    "dset[0]"
   ]
  },
  {
   "cell_type": "code",
   "execution_count": 5,
   "id": "16610d59-a118-4ab2-836a-1cc8c949d490",
   "metadata": {},
   "outputs": [
    {
     "data": {
      "application/vnd.jupyter.widget-view+json": {
       "model_id": "77d8d605968f4c89bbf60da90a838cc2",
       "version_major": 2,
       "version_minor": 0
      },
      "text/plain": [
       "  0%|          | 0/8743 [00:00<?, ?it/s]"
      ]
     },
     "metadata": {},
     "output_type": "display_data"
    },
    {
     "name": "stdout",
     "output_type": "stream",
     "text": [
      "CPU times: user 2min 39s, sys: 41.1 s, total: 3min 20s\n",
      "Wall time: 5min 11s\n"
     ]
    }
   ],
   "source": [
    "%%time\n",
    "for i in tqdm(range(len(dset))):\n",
    "    dset[i]"
   ]
  }
 ],
 "metadata": {
  "kernelspec": {
   "display_name": "Python 3 (ipykernel)",
   "language": "python",
   "name": "python3"
  },
  "language_info": {
   "codemirror_mode": {
    "name": "ipython",
    "version": 3
   },
   "file_extension": ".py",
   "mimetype": "text/x-python",
   "name": "python",
   "nbconvert_exporter": "python",
   "pygments_lexer": "ipython3",
   "version": "3.10.15"
  }
 },
 "nbformat": 4,
 "nbformat_minor": 5
}
