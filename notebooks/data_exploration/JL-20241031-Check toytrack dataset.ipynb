{
 "cells": [
  {
   "cell_type": "code",
   "execution_count": 1,
   "metadata": {},
   "outputs": [],
   "source": [
    "from toytrack.dataloaders import TracksDataset\n",
    "import yaml"
   ]
  },
  {
   "cell_type": "code",
   "execution_count": 2,
   "metadata": {},
   "outputs": [],
   "source": [
    "with open('../model_exploration/configs/12_testing.yaml', 'r') as fp:\n",
    "    config = yaml.safe_load(fp)\n",
    "\n",
    "dataset = TracksDataset(config['dataset_args'])"
   ]
  },
  {
   "cell_type": "code",
   "execution_count": 3,
   "metadata": {},
   "outputs": [],
   "source": [
    "it = iter(dataset)"
   ]
  },
  {
   "cell_type": "code",
   "execution_count": 4,
   "metadata": {},
   "outputs": [],
   "source": [
    "sample = next(it)"
   ]
  },
  {
   "cell_type": "code",
   "execution_count": 5,
   "metadata": {},
   "outputs": [
    {
     "data": {
      "text/plain": [
       "{'x': tensor([[-0.1950,  0.4604],\n",
       "         [-0.3252,  0.7931],\n",
       "         [-0.5008,  1.1062],\n",
       "         [-0.7216,  1.3960],\n",
       "         [-0.9868,  1.6570],\n",
       "         [-1.2957,  1.8830],\n",
       "         [-1.6475,  2.0665],\n",
       "         [-2.0410,  2.1987],\n",
       "         [ 0.2684, -0.4219],\n",
       "         [ 0.4533, -0.7275],\n",
       "         [ 0.6812, -1.0052],\n",
       "         [ 0.9508, -1.2512],\n",
       "         [ 1.2605, -1.4596],\n",
       "         [ 1.6085, -1.6240],\n",
       "         [ 1.9924, -1.7364],\n",
       "         [ 2.4094, -1.7873],\n",
       "         [ 0.4025,  0.2967],\n",
       "         [ 0.6191,  0.5928],\n",
       "         [ 0.7916,  0.9208],\n",
       "         [ 0.9156,  1.2772],\n",
       "         [ 0.9856,  1.6577],\n",
       "         [ 0.9955,  2.0575],\n",
       "         [ 0.9379,  2.4708],\n",
       "         [ 0.8035,  2.8904],\n",
       "         [ 0.0297, -0.4991],\n",
       "         [-0.0772, -0.8537],\n",
       "         [-0.2350, -1.1913],\n",
       "         [-0.4438, -1.5075],\n",
       "         [-0.7033, -1.7958],\n",
       "         [-1.0133, -2.0488],\n",
       "         [-1.3736, -2.2579],\n",
       "         [-1.7839, -2.4120],\n",
       "         [ 0.4932, -0.0820],\n",
       "         [ 0.8361, -0.1887],\n",
       "         [ 1.1644, -0.3444],\n",
       "         [ 1.4725, -0.5488],\n",
       "         [ 1.7540, -0.8018],\n",
       "         [ 2.0020, -1.1030],\n",
       "         [ 2.2081, -1.4522],\n",
       "         [ 2.3625, -1.8490],\n",
       "         [ 0.3858, -0.3180],\n",
       "         [ 0.6312, -0.5798],\n",
       "         [ 0.8400, -0.8768],\n",
       "         [ 1.0074, -1.2061],\n",
       "         [ 1.1281, -1.5642],\n",
       "         [ 1.1962, -1.9477],\n",
       "         [ 1.2049, -2.3522],\n",
       "         [ 1.1458, -2.7726],\n",
       "         [ 0.3609, -0.3461],\n",
       "         [ 0.6014, -0.6108],\n",
       "         [ 0.8041, -0.9099],\n",
       "         [ 0.9646, -1.2406],\n",
       "         [ 1.0775, -1.5995],\n",
       "         [ 1.1370, -1.9828],\n",
       "         [ 1.1361, -2.3862],\n",
       "         [ 1.0663, -2.8041],\n",
       "         [ 0.4835, -0.1273],\n",
       "         [ 0.8011, -0.3048],\n",
       "         [ 1.0931, -0.5288],\n",
       "         [ 1.3538, -0.7979],\n",
       "         [ 1.5768, -1.1105],\n",
       "         [ 1.7547, -1.4648],\n",
       "         [ 1.8788, -1.8587],\n",
       "         [ 1.9385, -2.2896],\n",
       "         [-0.3035, -0.3973],\n",
       "         [-0.5377, -0.6675],\n",
       "         [-0.8109, -0.9038],\n",
       "         [-1.1208, -1.1014],\n",
       "         [-1.4647, -1.2546],\n",
       "         [-1.8394, -1.3569],\n",
       "         [-2.2412, -1.4006],\n",
       "         [-2.6657, -1.3762],\n",
       "         [-0.4217, -0.2687],\n",
       "         [-0.7930, -0.3254],\n",
       "         [-1.1695, -0.3266],\n",
       "         [-1.5479, -0.2707],\n",
       "         [-1.9223, -0.1551],\n",
       "         [-2.2856,  0.0234],\n",
       "         [-2.6292,  0.2687],\n",
       "         [-2.9423,  0.5855]]),\n",
       " 'mask': tensor([True, True, True, True, True, True, True, True, True, True, True, True,\n",
       "         True, True, True, True, True, True, True, True, True, True, True, True,\n",
       "         True, True, True, True, True, True, True, True, True, True, True, True,\n",
       "         True, True, True, True, True, True, True, True, True, True, True, True,\n",
       "         True, True, True, True, True, True, True, True, True, True, True, True,\n",
       "         True, True, True, True, True, True, True, True, True, True, True, True,\n",
       "         True, True, True, True, True, True, True, True]),\n",
       " 'pids': tensor([1, 1, 1, 1, 1, 1, 1, 1, 4, 4, 4, 4, 4, 4, 4, 4, 6, 6, 6, 6, 6, 6, 6, 6,\n",
       "         0, 0, 0, 0, 0, 0, 0, 0, 2, 2, 2, 2, 2, 2, 2, 2, 3, 3, 3, 3, 3, 3, 3, 3,\n",
       "         5, 5, 5, 5, 5, 5, 5, 5, 7, 7, 7, 7, 7, 7, 7, 7, 8, 8, 8, 8, 8, 8, 8, 8,\n",
       "         9, 9, 9, 9, 9, 9, 9, 9]),\n",
       " 'event': Event(particles=         vx        vy   vz        pt      pphi  dimension  charge        d0  \\\n",
       " 0  0.090829 -0.017069  0.0  2.571813  3.110086          2      -1  0.090983   \n",
       " 1 -0.107378  0.084996  0.0  2.589720  0.154853          2       1  0.103418   \n",
       " 2  0.106861 -0.021459  0.0  2.563242 -1.649734          2      -1  0.027240   \n",
       " 3 -0.040351  0.002133  0.0  2.574155 -2.111344          2      -1  0.020497   \n",
       " 4  0.109625 -0.035403  0.0  2.511493 -2.835093          2       1  0.098352   \n",
       " 5 -0.001595 -0.058179  0.0  2.535069 -2.150593          2      -1  0.050593   \n",
       " 6  0.037408 -0.053643  0.0  2.504604 -0.907220          2       1  0.065281   \n",
       " 7 -0.029090  0.048563  0.0  2.531476 -1.794067          2      -1  0.038762   \n",
       " 8 -0.053604  0.013260  0.0  2.507023  2.690813          2      -1  0.054170   \n",
       " 9 -0.056007 -0.154984  0.0  2.535445  1.947765          2      -1  0.102334   \n",
       " \n",
       "         phi  particle_id  \n",
       " 0  0.016185            0  \n",
       " 1  3.089605            1  \n",
       " 2 -1.387447            2  \n",
       " 3 -2.198737            3  \n",
       " 4  0.171493            4  \n",
       " 5 -2.081921            5  \n",
       " 6 -0.896527            6  \n",
       " 7  1.237495            7  \n",
       " 8  2.716017            8  \n",
       " 9 -0.810919            9  , hits=           x         y  particle_id\n",
       " 0  -0.195019  0.460400            1\n",
       " 1  -0.325152  0.793076            1\n",
       " 2  -0.500821  1.106195            1\n",
       " 3  -0.721577  1.395963            1\n",
       " 4  -0.986787  1.656997            1\n",
       " ..       ...       ...          ...\n",
       " 75 -1.547936 -0.270707            9\n",
       " 76 -1.922324 -0.155102            9\n",
       " 77 -2.285594  0.023411            9\n",
       " 78 -2.629164  0.268687            9\n",
       " 79 -2.942301  0.585546            9\n",
       " \n",
       " [80 rows x 3 columns]), tracks=[[24 25 26 27 28 29 30  0  1  2  3  4  5  6 32 33 34 35 36 37 38 40 41 42\n",
       "   43 44 45 46  8  9 10 11 12 13 14 48 49 50 51 52 53 54 16 17 18 19 20 21\n",
       "   22 56 57 58 59 60 61 62 64 65 66 67 68 69 70 72 73 74 75 76 77 78]\n",
       "  [25 26 27 28 29 30 31  1  2  3  4  5  6  7 33 34 35 36 37 38 39 41 42 43\n",
       "   44 45 46 47  9 10 11 12 13 14 15 49 50 51 52 53 54 55 17 18 19 20 21 22\n",
       "   23 57 58 59 60 61 62 63 65 66 67 68 69 70 71 73 74 75 76 77 78 79]], detector=Detector(dimension=2), layers: [{'shape': 'cylinder', 'radius': 0.5, 'length': None}, {'shape': 'cylinder', 'radius': 0.8571428571428572, 'length': None}, {'shape': 'cylinder', 'radius': 1.2142857142857144, 'length': None}, {'shape': 'cylinder', 'radius': 1.5714285714285714, 'length': None}, {'shape': 'cylinder', 'radius': 1.9285714285714286, 'length': None}, {'shape': 'cylinder', 'radius': 2.2857142857142856, 'length': None}, {'shape': 'cylinder', 'radius': 2.642857142857143, 'length': None}, {'shape': 'cylinder', 'radius': 3.0, 'length': None}])}"
      ]
     },
     "execution_count": 5,
     "metadata": {},
     "output_type": "execute_result"
    }
   ],
   "source": [
    "sample"
   ]
  },
  {
   "cell_type": "code",
   "execution_count": 6,
   "metadata": {},
   "outputs": [
    {
     "data": {
      "text/plain": [
       "dict_keys(['x', 'mask', 'pids', 'event'])"
      ]
     },
     "execution_count": 6,
     "metadata": {},
     "output_type": "execute_result"
    }
   ],
   "source": [
    "sample.keys()"
   ]
  },
  {
   "cell_type": "code",
   "execution_count": 7,
   "metadata": {},
   "outputs": [
    {
     "data": {
      "text/plain": [
       "(torch.Size([80, 2]), torch.float32)"
      ]
     },
     "execution_count": 7,
     "metadata": {},
     "output_type": "execute_result"
    }
   ],
   "source": [
    "sample['x'].shape, sample['x'].dtype"
   ]
  },
  {
   "cell_type": "code",
   "execution_count": 8,
   "metadata": {},
   "outputs": [
    {
     "data": {
      "text/plain": [
       "(torch.Size([80]), torch.bool)"
      ]
     },
     "execution_count": 8,
     "metadata": {},
     "output_type": "execute_result"
    }
   ],
   "source": [
    "sample['mask'].shape, sample['mask'].dtype"
   ]
  },
  {
   "cell_type": "code",
   "execution_count": 9,
   "metadata": {},
   "outputs": [
    {
     "data": {
      "text/plain": [
       "(torch.Size([80]), torch.int64)"
      ]
     },
     "execution_count": 9,
     "metadata": {},
     "output_type": "execute_result"
    }
   ],
   "source": [
    "sample['pids'].shape, sample['pids'].dtype"
   ]
  }
 ],
 "metadata": {
  "kernelspec": {
   "display_name": "particle-jepa",
   "language": "python",
   "name": "python3"
  },
  "language_info": {
   "codemirror_mode": {
    "name": "ipython",
    "version": 3
   },
   "file_extension": ".py",
   "mimetype": "text/x-python",
   "name": "python",
   "nbconvert_exporter": "python",
   "pygments_lexer": "ipython3",
   "version": "3.10.15"
  }
 },
 "nbformat": 4,
 "nbformat_minor": 2
}
