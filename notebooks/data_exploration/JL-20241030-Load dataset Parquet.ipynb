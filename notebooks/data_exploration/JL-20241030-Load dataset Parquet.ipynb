{
 "cells": [
  {
   "cell_type": "code",
   "execution_count": 1,
   "id": "a95fd541-f6bd-4bd0-b590-59bb27e18b2d",
   "metadata": {},
   "outputs": [],
   "source": [
    "from pathlib import Path\n",
    "import pyarrow as pa\n",
    "import pyarrow.parquet as pq\n",
    "from pyarrow import csv"
   ]
  },
  {
   "cell_type": "code",
   "execution_count": 2,
   "id": "3054a280-7625-4a8b-a297-a8aca6d27ce7",
   "metadata": {},
   "outputs": [],
   "source": [
    "DATA_ROOT = '../train_sample'\n",
    "#DATA_ROOT = '../training'"
   ]
  },
  {
   "cell_type": "code",
   "execution_count": 3,
   "id": "aef23970-f745-46ef-b2f2-a065b78d8746",
   "metadata": {},
   "outputs": [],
   "source": [
    "HITS_SCHEMA = pa.schema({\n",
    "    'event_id': pa.int32(),\n",
    "    'hit_id': pa.int32(),\n",
    "    'x': pa.float32(),\n",
    "    'y': pa.float32(),\n",
    "    'z': pa.float32(),\n",
    "    'volume_id': pa.int8(),\n",
    "    'layer_id': pa.int8(),\n",
    "    'module_id': pa.int16(),\n",
    "})"
   ]
  },
  {
   "cell_type": "code",
   "execution_count": 4,
   "id": "11cfbbeb-8c1a-424c-aaf4-f57597a4cf9b",
   "metadata": {},
   "outputs": [],
   "source": [
    "hits_files = list(Path(DATA_ROOT).glob('event?????????-hits.csv.gz'))"
   ]
  },
  {
   "cell_type": "code",
   "execution_count": 5,
   "id": "8b398fd0-e76e-4618-a78a-40cdc9552c6f",
   "metadata": {},
   "outputs": [
    {
     "data": {
      "text/plain": [
       "50"
      ]
     },
     "execution_count": 5,
     "metadata": {},
     "output_type": "execute_result"
    }
   ],
   "source": [
    "len(hits_files)"
   ]
  },
  {
   "cell_type": "code",
   "execution_count": 6,
   "id": "ddb5b563-22dd-4603-ac3e-57175e726f3f",
   "metadata": {},
   "outputs": [
    {
     "name": "stdout",
     "output_type": "stream",
     "text": [
      "CPU times: user 1.81 s, sys: 923 ms, total: 2.73 s\n",
      "Wall time: 832 ms\n"
     ]
    }
   ],
   "source": [
    "%%time\n",
    "tables = [csv.read_csv(f, convert_options=csv.ConvertOptions(column_types=HITS_SCHEMA)) for f in hits_files]"
   ]
  },
  {
   "cell_type": "code",
   "execution_count": 7,
   "id": "86bb48c2-ab4a-4b55-9340-0ab6be9a6624",
   "metadata": {},
   "outputs": [],
   "source": [
    "table = pa.concat_tables(tables)"
   ]
  },
  {
   "cell_type": "code",
   "execution_count": 8,
   "id": "49a19e84-a10e-4ba8-95b1-a52eb881c041",
   "metadata": {},
   "outputs": [],
   "source": [
    "pq.write_table(table, 'test.parquet')"
   ]
  },
  {
   "cell_type": "code",
   "execution_count": 9,
   "id": "21461aca-5931-4978-8617-eeaa6a06f5db",
   "metadata": {},
   "outputs": [
    {
     "name": "stdout",
     "output_type": "stream",
     "text": [
      "CPU times: user 195 ms, sys: 61.1 ms, total: 257 ms\n",
      "Wall time: 220 ms\n"
     ]
    },
    {
     "data": {
      "text/plain": [
       "pyarrow.Table\n",
       "hit_id: int32\n",
       "x: float\n",
       "y: float\n",
       "z: float\n",
       "volume_id: int8\n",
       "layer_id: int8\n",
       "module_id: int16\n",
       "----\n",
       "hit_id: [[1,2,3,4,5,...,24946,24947,24948,24949,24950],[24951,24952,24953,24954,24955,...,54565,54566,54567,54568,54569],...,[122980,122981,122982,122983,122984,...,13123,13124,13125,13126,13127],[13128,13129,13130,13131,13132,...,106221,106222,106223,106224,106225]]\n",
       "x: [[-71.2343,-74.3945,-82.2111,-71.5644,-51.3558,...,-31.3851,-36.5223,-37.3412,-36.2626,-46.6897],[-47.0361,-46.7315,-45.0943,-49.7965,-44.3724,...,-41.1644,-36.695,-50.3772,-33.8548,-44.7666],...,[-280.974,-215.159,-231.894,-251.618,-175.146,...,-146.79,-145.518,-111.128,-149.553,-107.158],[-136.89,-142.791,-133.311,-126.201,-141.709,...,-929.664,-894.995,-889.412,-928.33,-900.88]]\n",
       "y: [[-0.966963,-5.98036,-6.09399,-6.81087,-11.9411,...,65.0584,61.3059,60.7077,61.4957,54.1891],[53.8125,54.1437,55.9239,50.811,56.7089,...,-127.302,-113.967,-124.266,-110.056,-107.841],...,[-767.414,-792.9,-785.062,-775.825,-802.351,...,61.6064,59.6887,47.3461,42.7612,32.1855],[49.7569,42.6645,51.7213,35.9967,50.9501,...,60.0526,114.203,37.3203,81.2507,20.6675]]\n",
       "z: [[-1502.5,-1502.5,-1502.5,-1502.5,-1502.5,...,16.9618,44.0538,39.6635,36.6538,15.2521],[24.8761,6.31912,24.756,50.4692,30.5581,...,818,818,818,818,818],...,[-542,-488,-552.8,-531.2,-477.2,...,-698,-698,-698,-702,-702],[-702,-702,-702,-702,-702,...,2952.5,2952.5,2952.5,2952.5,2952.5]]\n",
       "volume_id: [[7,7,7,7,7,...,8,8,8,8,8],[8,8,8,8,8,...,9,9,9,9,9],...,[17,17,17,17,17,...,7,7,7,7,7],[7,7,7,7,7,...,18,18,18,18,18]]\n",
       "layer_id: [[2,2,2,2,2,...,4,4,4,4,4],[4,4,4,4,4,...,6,6,6,6,6],...,[2,2,2,2,2,...,12,12,12,12,12],[12,12,12,12,12,...,12,12,12,12,12]]\n",
       "module_id: [[1,1,1,1,1,...,251,251,251,251,252],[252,252,252,252,252,...,22,22,22,22,22],...,[624,625,625,625,626,...,102,102,102,103,103],[103,103,103,103,103,...,98,98,98,98,98]]"
      ]
     },
     "execution_count": 9,
     "metadata": {},
     "output_type": "execute_result"
    }
   ],
   "source": [
    "%time pq.read_table('test.parquet')"
   ]
  },
  {
   "cell_type": "code",
   "execution_count": 10,
   "id": "d37ffe90-b2a6-41d9-96b5-aa7adda29de8",
   "metadata": {},
   "outputs": [],
   "source": [
    "! rm test.parquet"
   ]
  },
  {
   "cell_type": "code",
   "execution_count": null,
   "id": "927bb27b-abfc-4e01-a2f7-95a8fccf4b35",
   "metadata": {},
   "outputs": [],
   "source": []
  }
 ],
 "metadata": {
  "kernelspec": {
   "display_name": "Python 3 (ipykernel)",
   "language": "python",
   "name": "python3"
  },
  "language_info": {
   "codemirror_mode": {
    "name": "ipython",
    "version": 3
   },
   "file_extension": ".py",
   "mimetype": "text/x-python",
   "name": "python",
   "nbconvert_exporter": "python",
   "pygments_lexer": "ipython3",
   "version": "3.10.15"
  }
 },
 "nbformat": 4,
 "nbformat_minor": 5
}
