{
 "cells": [
  {
   "cell_type": "code",
   "execution_count": 1,
   "id": "a95fd541-f6bd-4bd0-b590-59bb27e18b2d",
   "metadata": {},
   "outputs": [],
   "source": [
    "from pathlib import Path\n",
    "import h5py\n",
    "from pyarrow import csv"
   ]
  },
  {
   "cell_type": "code",
   "execution_count": 2,
   "id": "3054a280-7625-4a8b-a297-a8aca6d27ce7",
   "metadata": {},
   "outputs": [],
   "source": [
    "DATA_ROOT = '../train_sample'\n",
    "#DATA_ROOT = '../training'\n",
    "\n",
    "HDF5_GROUP_KWARGS = {'track_order': True}\n",
    "HDF5_DATASET_KWARGS = {'fletcher32': True, 'chunks': True, 'compression': 'lzf'}\n",
    "#HDF5_DATASET_KWARGS = {'fletcher32': True, 'chunks': True, 'compression': 'gzip', 'compression_opts': 9}  # Use GZIP if the filesystem is slow"
   ]
  },
  {
   "cell_type": "markdown",
   "id": "1a7c9fd4-909f-46c8-99f4-d83392af9f89",
   "metadata": {},
   "source": [
    "## Write hits"
   ]
  },
  {
   "cell_type": "code",
   "execution_count": 3,
   "id": "11cfbbeb-8c1a-424c-aaf4-f57597a4cf9b",
   "metadata": {},
   "outputs": [],
   "source": [
    "hits_files = list(Path(DATA_ROOT).glob('event?????????-hits.csv.gz'))"
   ]
  },
  {
   "cell_type": "code",
   "execution_count": 4,
   "id": "8b398fd0-e76e-4618-a78a-40cdc9552c6f",
   "metadata": {},
   "outputs": [
    {
     "data": {
      "text/plain": [
       "50"
      ]
     },
     "execution_count": 4,
     "metadata": {},
     "output_type": "execute_result"
    }
   ],
   "source": [
    "len(hits_files)"
   ]
  },
  {
   "cell_type": "code",
   "execution_count": 5,
   "id": "ddb5b563-22dd-4603-ac3e-57175e726f3f",
   "metadata": {},
   "outputs": [
    {
     "name": "stdout",
     "output_type": "stream",
     "text": [
      "CPU times: user 1.56 s, sys: 94.8 ms, total: 1.66 s\n",
      "Wall time: 824 ms\n"
     ]
    }
   ],
   "source": [
    "%%time\n",
    "hits_tables = [csv.read_csv(f) for f in hits_files]"
   ]
  },
  {
   "cell_type": "code",
   "execution_count": 6,
   "id": "1460b5e2-a610-4e86-83b8-ffdfd07061b1",
   "metadata": {},
   "outputs": [
    {
     "data": {
      "text/html": [
       "<div>\n",
       "<style scoped>\n",
       "    .dataframe tbody tr th:only-of-type {\n",
       "        vertical-align: middle;\n",
       "    }\n",
       "\n",
       "    .dataframe tbody tr th {\n",
       "        vertical-align: top;\n",
       "    }\n",
       "\n",
       "    .dataframe thead th {\n",
       "        text-align: right;\n",
       "    }\n",
       "</style>\n",
       "<table border=\"1\" class=\"dataframe\">\n",
       "  <thead>\n",
       "    <tr style=\"text-align: right;\">\n",
       "      <th></th>\n",
       "      <th>hit_id</th>\n",
       "      <th>x</th>\n",
       "      <th>y</th>\n",
       "      <th>z</th>\n",
       "      <th>volume_id</th>\n",
       "      <th>layer_id</th>\n",
       "      <th>module_id</th>\n",
       "    </tr>\n",
       "  </thead>\n",
       "  <tbody>\n",
       "    <tr>\n",
       "      <th>0</th>\n",
       "      <td>1</td>\n",
       "      <td>-71.2343</td>\n",
       "      <td>-0.966963</td>\n",
       "      <td>-1502.5</td>\n",
       "      <td>7</td>\n",
       "      <td>2</td>\n",
       "      <td>1</td>\n",
       "    </tr>\n",
       "    <tr>\n",
       "      <th>1</th>\n",
       "      <td>2</td>\n",
       "      <td>-74.3945</td>\n",
       "      <td>-5.980360</td>\n",
       "      <td>-1502.5</td>\n",
       "      <td>7</td>\n",
       "      <td>2</td>\n",
       "      <td>1</td>\n",
       "    </tr>\n",
       "    <tr>\n",
       "      <th>2</th>\n",
       "      <td>3</td>\n",
       "      <td>-82.2111</td>\n",
       "      <td>-6.093990</td>\n",
       "      <td>-1502.5</td>\n",
       "      <td>7</td>\n",
       "      <td>2</td>\n",
       "      <td>1</td>\n",
       "    </tr>\n",
       "    <tr>\n",
       "      <th>3</th>\n",
       "      <td>4</td>\n",
       "      <td>-71.5644</td>\n",
       "      <td>-6.810870</td>\n",
       "      <td>-1502.5</td>\n",
       "      <td>7</td>\n",
       "      <td>2</td>\n",
       "      <td>1</td>\n",
       "    </tr>\n",
       "    <tr>\n",
       "      <th>4</th>\n",
       "      <td>5</td>\n",
       "      <td>-51.3558</td>\n",
       "      <td>-11.941100</td>\n",
       "      <td>-1502.5</td>\n",
       "      <td>7</td>\n",
       "      <td>2</td>\n",
       "      <td>1</td>\n",
       "    </tr>\n",
       "  </tbody>\n",
       "</table>\n",
       "</div>"
      ],
      "text/plain": [
       "   hit_id        x          y       z  volume_id  layer_id  module_id\n",
       "0       1 -71.2343  -0.966963 -1502.5          7         2          1\n",
       "1       2 -74.3945  -5.980360 -1502.5          7         2          1\n",
       "2       3 -82.2111  -6.093990 -1502.5          7         2          1\n",
       "3       4 -71.5644  -6.810870 -1502.5          7         2          1\n",
       "4       5 -51.3558 -11.941100 -1502.5          7         2          1"
      ]
     },
     "execution_count": 6,
     "metadata": {},
     "output_type": "execute_result"
    }
   ],
   "source": [
    "hits_tables[0].to_pandas().head()"
   ]
  },
  {
   "cell_type": "code",
   "execution_count": 7,
   "id": "a31f925e-8fd3-4895-adf7-602c38df1d8f",
   "metadata": {},
   "outputs": [
    {
     "data": {
      "text/plain": [
       "hit_id       106122.00\n",
       "x              1024.90\n",
       "y              1024.96\n",
       "z              2955.50\n",
       "volume_id        18.00\n",
       "layer_id         14.00\n",
       "module_id      3192.00\n",
       "dtype: float64"
      ]
     },
     "execution_count": 7,
     "metadata": {},
     "output_type": "execute_result"
    }
   ],
   "source": [
    "hits_tables[0].to_pandas().max()"
   ]
  },
  {
   "cell_type": "code",
   "execution_count": 8,
   "id": "e08bd0c7-575e-493d-9659-477beba59aff",
   "metadata": {},
   "outputs": [
    {
     "name": "stdout",
     "output_type": "stream",
     "text": [
      "CPU times: user 355 ms, sys: 121 ms, total: 476 ms\n",
      "Wall time: 476 ms\n"
     ]
    }
   ],
   "source": [
    "%%time\n",
    "with h5py.File('test.hdf5', 'w', **HDF5_GROUP_KWARGS) as fp:\n",
    "    \n",
    "    hits = fp.create_group('hits', **HDF5_GROUP_KWARGS)\n",
    "\n",
    "    # Event-level data\n",
    "    event_offset = hits.create_dataset('event_offset', (0,), maxshape=(None,), dtype='i4', **HDF5_DATASET_KWARGS)\n",
    "    event_length = hits.create_dataset('event_length', (0,), maxshape=(None,), dtype='i4', **HDF5_DATASET_KWARGS)\n",
    "\n",
    "    # Individual hits\n",
    "    hit_id = hits.create_dataset('hit_id', (0,), maxshape=(None,), dtype='i4', **HDF5_DATASET_KWARGS)\n",
    "    x = hits.create_dataset('x', (0,), maxshape=(None,), dtype='f4', **HDF5_DATASET_KWARGS)\n",
    "    y = hits.create_dataset('y', (0,), maxshape=(None,), dtype='f4', **HDF5_DATASET_KWARGS)\n",
    "    z = hits.create_dataset('z', (0,), maxshape=(None,), dtype='f4', **HDF5_DATASET_KWARGS)\n",
    "    volume_id = hits.create_dataset('volume_id', (0,), maxshape=(None,), dtype='i1', **HDF5_DATASET_KWARGS)\n",
    "    layer_id  = hits.create_dataset( 'layer_id', (0,), maxshape=(None,), dtype='i1', **HDF5_DATASET_KWARGS)\n",
    "    module_id = hits.create_dataset('module_id', (0,), maxshape=(None,), dtype='i2', **HDF5_DATASET_KWARGS)\n",
    "\n",
    "    current_event_offset = 0\n",
    "    for table in hits_tables:\n",
    "        N_hits = table.shape[0]\n",
    "        \n",
    "        for group in [event_offset, event_length]:\n",
    "            group.resize(group.shape[0] + 1, axis=0)\n",
    "        event_length[-1] = N_hits\n",
    "        event_offset[-1] = current_event_offset\n",
    "        current_event_offset += N_hits\n",
    "\n",
    "        for group in [hit_id, x, y, z, volume_id, layer_id, module_id]:\n",
    "            group.resize(group.shape[0] + N_hits, axis=0)\n",
    "        hit_id[-N_hits:] = table['hit_id']\n",
    "        x[-N_hits:] = table['x']\n",
    "        y[-N_hits:] = table['y']\n",
    "        z[-N_hits:] = table['z']\n",
    "        volume_id[-N_hits:] = table['volume_id']\n",
    "        layer_id[ -N_hits:] = table[ 'layer_id']\n",
    "        module_id[-N_hits:] = table['module_id']"
   ]
  },
  {
   "cell_type": "code",
   "execution_count": 9,
   "id": "97ea6430-6c89-41b1-861d-4cd39ed2de15",
   "metadata": {},
   "outputs": [],
   "source": [
    "# Validation\n",
    "with h5py.File('test.hdf5', 'r') as f:\n",
    "\n",
    "    import pyarrow as pa\n",
    "    import numpy as np\n",
    "    all_hits_table = pa.concat_tables(hits_tables)\n",
    "\n",
    "    for feature in ['hit_id', 'x', 'y', 'z', 'volume_id', 'layer_id', 'module_id']:\n",
    "        assert np.allclose(f['hits'][feature][:], all_hits_table[feature].to_numpy())\n",
    "\n",
    "    assert all(f['hits/event_offset'][1:] - f['hits/event_offset'][:-1] == f['hits/event_length'][:-1])\n",
    "\n",
    "    for idx in range(len(hits_tables)):\n",
    "        offset = f['hits/event_offset'][idx]\n",
    "        length = f['hits/event_length'][idx]\n",
    "        for feature in ['hit_id', 'x', 'y', 'z', 'volume_id', 'layer_id', 'module_id']:\n",
    "            assert np.allclose(f['hits'][feature][offset:offset+length], hits_tables[idx][feature].to_numpy())"
   ]
  },
  {
   "cell_type": "markdown",
   "id": "ae59f3b8-1aed-4592-8ca5-b79607f4059b",
   "metadata": {},
   "source": [
    "## Write cells"
   ]
  },
  {
   "cell_type": "code",
   "execution_count": 10,
   "id": "1331b078-396e-4614-9d20-72d0e0c3fb1e",
   "metadata": {},
   "outputs": [],
   "source": [
    "cells_files = list(Path(DATA_ROOT).glob('event?????????-cells.csv.gz'))\n",
    "assert(len(cells_files) == len(hits_files))"
   ]
  },
  {
   "cell_type": "code",
   "execution_count": 11,
   "id": "fd47539c-b5ee-465e-9613-6d3acf920c66",
   "metadata": {},
   "outputs": [
    {
     "name": "stdout",
     "output_type": "stream",
     "text": [
      "CPU times: user 2.68 s, sys: 121 ms, total: 2.8 s\n",
      "Wall time: 1.23 s\n"
     ]
    }
   ],
   "source": [
    "%%time\n",
    "cells_tables = [csv.read_csv(f) for f in cells_files]"
   ]
  },
  {
   "cell_type": "code",
   "execution_count": 12,
   "id": "7a42ce09-350d-4011-98fc-98606392b1b8",
   "metadata": {},
   "outputs": [
    {
     "data": {
      "text/html": [
       "<div>\n",
       "<style scoped>\n",
       "    .dataframe tbody tr th:only-of-type {\n",
       "        vertical-align: middle;\n",
       "    }\n",
       "\n",
       "    .dataframe tbody tr th {\n",
       "        vertical-align: top;\n",
       "    }\n",
       "\n",
       "    .dataframe thead th {\n",
       "        text-align: right;\n",
       "    }\n",
       "</style>\n",
       "<table border=\"1\" class=\"dataframe\">\n",
       "  <thead>\n",
       "    <tr style=\"text-align: right;\">\n",
       "      <th></th>\n",
       "      <th>hit_id</th>\n",
       "      <th>ch0</th>\n",
       "      <th>ch1</th>\n",
       "      <th>value</th>\n",
       "    </tr>\n",
       "  </thead>\n",
       "  <tbody>\n",
       "    <tr>\n",
       "      <th>0</th>\n",
       "      <td>1</td>\n",
       "      <td>243</td>\n",
       "      <td>851</td>\n",
       "      <td>0.312499</td>\n",
       "    </tr>\n",
       "    <tr>\n",
       "      <th>1</th>\n",
       "      <td>2</td>\n",
       "      <td>108</td>\n",
       "      <td>606</td>\n",
       "      <td>0.280636</td>\n",
       "    </tr>\n",
       "    <tr>\n",
       "      <th>2</th>\n",
       "      <td>3</td>\n",
       "      <td>289</td>\n",
       "      <td>717</td>\n",
       "      <td>0.307342</td>\n",
       "    </tr>\n",
       "    <tr>\n",
       "      <th>3</th>\n",
       "      <td>4</td>\n",
       "      <td>203</td>\n",
       "      <td>832</td>\n",
       "      <td>0.053623</td>\n",
       "    </tr>\n",
       "    <tr>\n",
       "      <th>4</th>\n",
       "      <td>4</td>\n",
       "      <td>203</td>\n",
       "      <td>833</td>\n",
       "      <td>0.263058</td>\n",
       "    </tr>\n",
       "  </tbody>\n",
       "</table>\n",
       "</div>"
      ],
      "text/plain": [
       "   hit_id  ch0  ch1     value\n",
       "0       1  243  851  0.312499\n",
       "1       2  108  606  0.280636\n",
       "2       3  289  717  0.307342\n",
       "3       4  203  832  0.053623\n",
       "4       4  203  833  0.263058"
      ]
     },
     "execution_count": 12,
     "metadata": {},
     "output_type": "execute_result"
    }
   ],
   "source": [
    "cells_tables[0].to_pandas().head()"
   ]
  },
  {
   "cell_type": "code",
   "execution_count": 13,
   "id": "83c15b2b-1a40-47e4-88e0-63aaabdbc50e",
   "metadata": {},
   "outputs": [
    {
     "data": {
      "text/plain": [
       "hit_id    120242.0\n",
       "ch0         1189.0\n",
       "ch1         1279.0\n",
       "value          1.0\n",
       "dtype: float64"
      ]
     },
     "execution_count": 13,
     "metadata": {},
     "output_type": "execute_result"
    }
   ],
   "source": [
    "cells_tables[0].to_pandas().max()"
   ]
  },
  {
   "cell_type": "code",
   "execution_count": 14,
   "id": "e0352ee8-36ec-4629-8f66-9a9973e72540",
   "metadata": {},
   "outputs": [
    {
     "name": "stdout",
     "output_type": "stream",
     "text": [
      "CPU times: user 733 ms, sys: 233 ms, total: 966 ms\n",
      "Wall time: 1.11 s\n"
     ]
    }
   ],
   "source": [
    "%%time\n",
    "with h5py.File('test.hdf5', 'r+') as fp:\n",
    "    \n",
    "    cells = fp.create_group('cells', **HDF5_GROUP_KWARGS)\n",
    "\n",
    "    # Event-level data\n",
    "    event_offset = cells.create_dataset('event_offset', (0,), maxshape=(None,), dtype='i4', **HDF5_DATASET_KWARGS)\n",
    "    event_length = cells.create_dataset('event_length', (0,), maxshape=(None,), dtype='i4', **HDF5_DATASET_KWARGS)\n",
    "\n",
    "    # Individual hits\n",
    "    hit_id = cells.create_dataset('hit_id', (0,), maxshape=(None,), dtype='i4', **HDF5_DATASET_KWARGS)\n",
    "    ch0 = cells.create_dataset('ch0', (0,), maxshape=(None,), dtype='i2', **HDF5_DATASET_KWARGS)\n",
    "    ch1 = cells.create_dataset('ch1', (0,), maxshape=(None,), dtype='i2', **HDF5_DATASET_KWARGS)\n",
    "    value = cells.create_dataset('value', (0,), maxshape=(None,), dtype='f4', **HDF5_DATASET_KWARGS)\n",
    "\n",
    "    current_event_offset = 0\n",
    "    for table in cells_tables:\n",
    "        N_hits = table.shape[0]\n",
    "        \n",
    "        for group in [event_offset, event_length]:\n",
    "            group.resize(group.shape[0] + 1, axis=0)\n",
    "        event_length[-1] = N_hits\n",
    "        event_offset[-1] = current_event_offset\n",
    "        current_event_offset += N_hits\n",
    "\n",
    "        for group in [hit_id, ch0, ch1, value]:\n",
    "            group.resize(group.shape[0] + N_hits, axis=0)\n",
    "        hit_id[-N_hits:] = table['hit_id']\n",
    "        ch0[-N_hits:] = table['ch0']\n",
    "        ch1[-N_hits:] = table['ch1']\n",
    "        value[-N_hits:] = table['value']"
   ]
  },
  {
   "cell_type": "code",
   "execution_count": 15,
   "id": "e4402641-4976-459c-9d84-05d3cc452f48",
   "metadata": {},
   "outputs": [],
   "source": [
    "# Validation\n",
    "with h5py.File('test.hdf5', 'r') as f:\n",
    "\n",
    "    all_cells_table = pa.concat_tables(cells_tables)\n",
    "\n",
    "    for feature in ['hit_id', 'ch0', 'ch1', 'value']:\n",
    "        assert np.allclose(f['cells'][feature][:], all_cells_table[feature].to_numpy())\n",
    "\n",
    "    assert all(f['cells/event_offset'][1:] - f['cells/event_offset'][:-1] == f['cells/event_length'][:-1])\n",
    "\n",
    "    for idx in range(len(cells_tables)):\n",
    "        offset = f['cells/event_offset'][idx]\n",
    "        length = f['cells/event_length'][idx]\n",
    "        for feature in ['hit_id', 'ch0', 'ch1', 'value']:\n",
    "            assert np.allclose(f['cells'][feature][offset:offset+length], cells_tables[idx][feature].to_numpy())"
   ]
  },
  {
   "cell_type": "markdown",
   "id": "b9dcd7d9-ac64-461b-9091-578348c7916b",
   "metadata": {},
   "source": [
    "## Write particles"
   ]
  },
  {
   "cell_type": "code",
   "execution_count": 16,
   "id": "bf38fd92-d9ee-4cb5-9043-ce857088d0b5",
   "metadata": {},
   "outputs": [],
   "source": [
    "particles_files = list(Path(DATA_ROOT).glob('event?????????-particles.csv.gz'))\n",
    "assert(len(particles_files) == len(hits_files))"
   ]
  },
  {
   "cell_type": "code",
   "execution_count": 17,
   "id": "4020e28c-674c-475d-8fee-a4de8aaa285d",
   "metadata": {},
   "outputs": [
    {
     "name": "stdout",
     "output_type": "stream",
     "text": [
      "CPU times: user 490 ms, sys: 37 ms, total: 527 ms\n",
      "Wall time: 404 ms\n"
     ]
    }
   ],
   "source": [
    "%%time\n",
    "particles_tables = [csv.read_csv(f) for f in particles_files]"
   ]
  },
  {
   "cell_type": "code",
   "execution_count": 18,
   "id": "a59d6782-4495-44e4-b39c-39c417360265",
   "metadata": {},
   "outputs": [
    {
     "data": {
      "text/html": [
       "<div>\n",
       "<style scoped>\n",
       "    .dataframe tbody tr th:only-of-type {\n",
       "        vertical-align: middle;\n",
       "    }\n",
       "\n",
       "    .dataframe tbody tr th {\n",
       "        vertical-align: top;\n",
       "    }\n",
       "\n",
       "    .dataframe thead th {\n",
       "        text-align: right;\n",
       "    }\n",
       "</style>\n",
       "<table border=\"1\" class=\"dataframe\">\n",
       "  <thead>\n",
       "    <tr style=\"text-align: right;\">\n",
       "      <th></th>\n",
       "      <th>particle_id</th>\n",
       "      <th>particle_type</th>\n",
       "      <th>vx</th>\n",
       "      <th>vy</th>\n",
       "      <th>vz</th>\n",
       "      <th>px</th>\n",
       "      <th>py</th>\n",
       "      <th>pz</th>\n",
       "      <th>q</th>\n",
       "      <th>nhits</th>\n",
       "    </tr>\n",
       "  </thead>\n",
       "  <tbody>\n",
       "    <tr>\n",
       "      <th>0</th>\n",
       "      <td>4503668346847232</td>\n",
       "      <td>-13</td>\n",
       "      <td>-0.011938</td>\n",
       "      <td>-0.0241</td>\n",
       "      <td>1.23557</td>\n",
       "      <td>-43.946300</td>\n",
       "      <td>-27.287800</td>\n",
       "      <td>-391.87000</td>\n",
       "      <td>1</td>\n",
       "      <td>14</td>\n",
       "    </tr>\n",
       "    <tr>\n",
       "      <th>1</th>\n",
       "      <td>4503874505277440</td>\n",
       "      <td>-211</td>\n",
       "      <td>-0.011938</td>\n",
       "      <td>-0.0241</td>\n",
       "      <td>1.23557</td>\n",
       "      <td>-2.146560</td>\n",
       "      <td>-0.544226</td>\n",
       "      <td>11.90260</td>\n",
       "      <td>-1</td>\n",
       "      <td>2</td>\n",
       "    </tr>\n",
       "    <tr>\n",
       "      <th>2</th>\n",
       "      <td>4503943224754176</td>\n",
       "      <td>211</td>\n",
       "      <td>-0.011938</td>\n",
       "      <td>-0.0241</td>\n",
       "      <td>1.23557</td>\n",
       "      <td>-0.197988</td>\n",
       "      <td>-0.004153</td>\n",
       "      <td>4.01512</td>\n",
       "      <td>1</td>\n",
       "      <td>12</td>\n",
       "    </tr>\n",
       "    <tr>\n",
       "      <th>3</th>\n",
       "      <td>4504011944230912</td>\n",
       "      <td>321</td>\n",
       "      <td>-0.011938</td>\n",
       "      <td>-0.0241</td>\n",
       "      <td>1.23557</td>\n",
       "      <td>0.322507</td>\n",
       "      <td>-0.703132</td>\n",
       "      <td>8.19269</td>\n",
       "      <td>1</td>\n",
       "      <td>10</td>\n",
       "    </tr>\n",
       "    <tr>\n",
       "      <th>4</th>\n",
       "      <td>4504080663707648</td>\n",
       "      <td>-211</td>\n",
       "      <td>-0.011938</td>\n",
       "      <td>-0.0241</td>\n",
       "      <td>1.23557</td>\n",
       "      <td>0.900248</td>\n",
       "      <td>0.886279</td>\n",
       "      <td>10.16780</td>\n",
       "      <td>-1</td>\n",
       "      <td>13</td>\n",
       "    </tr>\n",
       "  </tbody>\n",
       "</table>\n",
       "</div>"
      ],
      "text/plain": [
       "        particle_id  particle_type        vx      vy       vz         px  \\\n",
       "0  4503668346847232            -13 -0.011938 -0.0241  1.23557 -43.946300   \n",
       "1  4503874505277440           -211 -0.011938 -0.0241  1.23557  -2.146560   \n",
       "2  4503943224754176            211 -0.011938 -0.0241  1.23557  -0.197988   \n",
       "3  4504011944230912            321 -0.011938 -0.0241  1.23557   0.322507   \n",
       "4  4504080663707648           -211 -0.011938 -0.0241  1.23557   0.900248   \n",
       "\n",
       "          py         pz  q  nhits  \n",
       "0 -27.287800 -391.87000  1     14  \n",
       "1  -0.544226   11.90260 -1      2  \n",
       "2  -0.004153    4.01512  1     12  \n",
       "3  -0.703132    8.19269  1     10  \n",
       "4   0.886279   10.16780 -1     13  "
      ]
     },
     "execution_count": 18,
     "metadata": {},
     "output_type": "execute_result"
    }
   ],
   "source": [
    "particles_tables[0].to_pandas().head()"
   ]
  },
  {
   "cell_type": "code",
   "execution_count": 19,
   "id": "6d7301f1-0d52-4c7a-8798-4c06abfa1412",
   "metadata": {},
   "outputs": [
    {
     "data": {
      "text/plain": [
       "particle_id      8.737297e+17\n",
       "particle_type    2.212000e+03\n",
       "vx               9.239790e+02\n",
       "vy               9.246850e+02\n",
       "vz               2.951500e+03\n",
       "px               1.367670e+01\n",
       "py               1.224290e+01\n",
       "pz               1.090690e+02\n",
       "q                1.000000e+00\n",
       "nhits            2.200000e+01\n",
       "dtype: float64"
      ]
     },
     "execution_count": 19,
     "metadata": {},
     "output_type": "execute_result"
    }
   ],
   "source": [
    "particles_tables[0].to_pandas().max()"
   ]
  },
  {
   "cell_type": "code",
   "execution_count": 20,
   "id": "f1bb5317-9234-4c4e-9f6c-0f336c631faf",
   "metadata": {},
   "outputs": [
    {
     "name": "stdout",
     "output_type": "stream",
     "text": [
      "CPU times: user 84.3 ms, sys: 17.9 ms, total: 102 ms\n",
      "Wall time: 101 ms\n"
     ]
    }
   ],
   "source": [
    "%%time\n",
    "with h5py.File('test.hdf5', 'r+') as fp:\n",
    "    \n",
    "    particles = fp.create_group('particles', **HDF5_GROUP_KWARGS)\n",
    "\n",
    "    # Event-level data\n",
    "    event_offset = particles.create_dataset('event_offset', (0,), maxshape=(None,), dtype='i4', **HDF5_DATASET_KWARGS)\n",
    "    event_length = particles.create_dataset('event_length', (0,), maxshape=(None,), dtype='i4', **HDF5_DATASET_KWARGS)\n",
    "\n",
    "    # Individual particles\n",
    "    particle_id = particles.create_dataset('particle_id', (0,), maxshape=(None,), dtype='i8', **HDF5_DATASET_KWARGS)\n",
    "    particle_type = particles.create_dataset('particle_type', (0,), maxshape=(None,), dtype='i2', **HDF5_DATASET_KWARGS)\n",
    "    vx = particles.create_dataset('vx', (0,), maxshape=(None,), dtype='f4', **HDF5_DATASET_KWARGS)\n",
    "    vy = particles.create_dataset('vy', (0,), maxshape=(None,), dtype='f4', **HDF5_DATASET_KWARGS)\n",
    "    vz = particles.create_dataset('vz', (0,), maxshape=(None,), dtype='f4', **HDF5_DATASET_KWARGS)\n",
    "    px = particles.create_dataset('px', (0,), maxshape=(None,), dtype='f4', **HDF5_DATASET_KWARGS)\n",
    "    py = particles.create_dataset('py', (0,), maxshape=(None,), dtype='f4', **HDF5_DATASET_KWARGS)\n",
    "    pz = particles.create_dataset('pz', (0,), maxshape=(None,), dtype='f4', **HDF5_DATASET_KWARGS)\n",
    "    q = particles.create_dataset('q', (0,), maxshape=(None,), dtype='i1', **HDF5_DATASET_KWARGS)\n",
    "    nhits = particles.create_dataset('nhits', (0,), maxshape=(None,), dtype='i1', **HDF5_DATASET_KWARGS)\n",
    "    \n",
    "    current_event_offset = 0\n",
    "    for table in particles_tables:\n",
    "        N_particles = table.shape[0]\n",
    "        \n",
    "        for group in [event_offset, event_length]:\n",
    "            group.resize(group.shape[0] + 1, axis=0)\n",
    "        event_length[-1] = N_particles\n",
    "        event_offset[-1] = current_event_offset\n",
    "        current_event_offset += N_particles\n",
    "\n",
    "        for group in [particle_id, particle_type, vx, vy, vz, px, py, pz, q, nhits]:\n",
    "            group.resize(group.shape[0] + N_particles, axis=0)\n",
    "        particle_id[-N_particles:] = table['particle_id']\n",
    "        particle_type[-N_particles:] = table['particle_type']\n",
    "        vx[-N_particles:] = table['vx']\n",
    "        vy[-N_particles:] = table['vy']\n",
    "        vz[-N_particles:] = table['vz']\n",
    "        px[-N_particles:] = table['px']\n",
    "        py[-N_particles:] = table['py']\n",
    "        pz[-N_particles:] = table['pz']\n",
    "        q[-N_particles:] = table['q']\n",
    "        nhits[ -N_particles:] = table[ 'nhits']"
   ]
  },
  {
   "cell_type": "code",
   "execution_count": 21,
   "id": "81b98ea1-e8d6-4edf-845b-19fc9916e717",
   "metadata": {},
   "outputs": [],
   "source": [
    "# Validation\n",
    "with h5py.File('test.hdf5', 'r') as f:\n",
    "\n",
    "    all_particles_table = pa.concat_tables(particles_tables)\n",
    "\n",
    "    for feature in ['particle_id', 'particle_type', 'vx', 'vy', 'vz', 'px', 'py', 'pz', 'q', 'nhits']:\n",
    "        assert np.allclose(f['particles'][feature][:], all_particles_table[feature].to_numpy())\n",
    "\n",
    "    assert all(f['particles/event_offset'][1:] - f['particles/event_offset'][:-1] == f['particles/event_length'][:-1])\n",
    "\n",
    "    for idx in range(len(particles_tables)):\n",
    "        offset = f['particles/event_offset'][idx]\n",
    "        length = f['particles/event_length'][idx]\n",
    "        for feature in ['particle_id', 'particle_type', 'vx', 'vy', 'vz', 'px', 'py', 'pz', 'q', 'nhits']:\n",
    "            assert np.allclose(f['particles'][feature][offset:offset+length], particles_tables[idx][feature].to_numpy())"
   ]
  },
  {
   "cell_type": "markdown",
   "id": "5fbe6260-2a5d-43e2-a16c-cadb8dfc143e",
   "metadata": {},
   "source": [
    "## Write truth"
   ]
  },
  {
   "cell_type": "code",
   "execution_count": 22,
   "id": "e4fa31f6-9a96-49bc-83d1-0ca2730d1d76",
   "metadata": {},
   "outputs": [],
   "source": [
    "truth_files = list(Path(DATA_ROOT).glob('event?????????-truth.csv.gz'))\n",
    "assert(len(truth_files) == len(hits_files))"
   ]
  },
  {
   "cell_type": "code",
   "execution_count": 23,
   "id": "de1f9bd9-1b5d-42a0-9c51-f16dbf4a16ab",
   "metadata": {},
   "outputs": [
    {
     "name": "stdout",
     "output_type": "stream",
     "text": [
      "CPU times: user 3.32 s, sys: 139 ms, total: 3.46 s\n",
      "Wall time: 1.64 s\n"
     ]
    }
   ],
   "source": [
    "%%time\n",
    "truth_tables = [csv.read_csv(f) for f in truth_files]"
   ]
  },
  {
   "cell_type": "code",
   "execution_count": 24,
   "id": "13aa4a2c-9b16-458e-b577-7f886d4f40c6",
   "metadata": {},
   "outputs": [
    {
     "data": {
      "text/html": [
       "<div>\n",
       "<style scoped>\n",
       "    .dataframe tbody tr th:only-of-type {\n",
       "        vertical-align: middle;\n",
       "    }\n",
       "\n",
       "    .dataframe tbody tr th {\n",
       "        vertical-align: top;\n",
       "    }\n",
       "\n",
       "    .dataframe thead th {\n",
       "        text-align: right;\n",
       "    }\n",
       "</style>\n",
       "<table border=\"1\" class=\"dataframe\">\n",
       "  <thead>\n",
       "    <tr style=\"text-align: right;\">\n",
       "      <th></th>\n",
       "      <th>hit_id</th>\n",
       "      <th>particle_id</th>\n",
       "      <th>tx</th>\n",
       "      <th>ty</th>\n",
       "      <th>tz</th>\n",
       "      <th>tpx</th>\n",
       "      <th>tpy</th>\n",
       "      <th>tpz</th>\n",
       "      <th>weight</th>\n",
       "    </tr>\n",
       "  </thead>\n",
       "  <tbody>\n",
       "    <tr>\n",
       "      <th>0</th>\n",
       "      <td>1</td>\n",
       "      <td>657527538460917760</td>\n",
       "      <td>-57.9180</td>\n",
       "      <td>2.48939</td>\n",
       "      <td>-1502.5</td>\n",
       "      <td>-0.452228</td>\n",
       "      <td>0.038489</td>\n",
       "      <td>-11.64190</td>\n",
       "      <td>0.000011</td>\n",
       "    </tr>\n",
       "    <tr>\n",
       "      <th>1</th>\n",
       "      <td>2</td>\n",
       "      <td>252204808948154368</td>\n",
       "      <td>-75.0581</td>\n",
       "      <td>-7.55168</td>\n",
       "      <td>-1502.5</td>\n",
       "      <td>-0.879625</td>\n",
       "      <td>-0.115445</td>\n",
       "      <td>-17.71460</td>\n",
       "      <td>0.000015</td>\n",
       "    </tr>\n",
       "    <tr>\n",
       "      <th>2</th>\n",
       "      <td>3</td>\n",
       "      <td>837678807820271616</td>\n",
       "      <td>-59.5603</td>\n",
       "      <td>-7.32468</td>\n",
       "      <td>-1502.5</td>\n",
       "      <td>0.155798</td>\n",
       "      <td>-0.000566</td>\n",
       "      <td>-3.72562</td>\n",
       "      <td>0.000012</td>\n",
       "    </tr>\n",
       "    <tr>\n",
       "      <th>3</th>\n",
       "      <td>4</td>\n",
       "      <td>265717257097707520</td>\n",
       "      <td>-60.2607</td>\n",
       "      <td>2.00153</td>\n",
       "      <td>-1502.5</td>\n",
       "      <td>-0.321307</td>\n",
       "      <td>0.028965</td>\n",
       "      <td>-7.84429</td>\n",
       "      <td>0.000012</td>\n",
       "    </tr>\n",
       "    <tr>\n",
       "      <th>4</th>\n",
       "      <td>5</td>\n",
       "      <td>256713012780466176</td>\n",
       "      <td>-66.1137</td>\n",
       "      <td>-6.67106</td>\n",
       "      <td>-1502.5</td>\n",
       "      <td>-0.787132</td>\n",
       "      <td>-0.063110</td>\n",
       "      <td>-18.25040</td>\n",
       "      <td>0.000015</td>\n",
       "    </tr>\n",
       "  </tbody>\n",
       "</table>\n",
       "</div>"
      ],
      "text/plain": [
       "   hit_id         particle_id       tx       ty      tz       tpx       tpy  \\\n",
       "0       1  657527538460917760 -57.9180  2.48939 -1502.5 -0.452228  0.038489   \n",
       "1       2  252204808948154368 -75.0581 -7.55168 -1502.5 -0.879625 -0.115445   \n",
       "2       3  837678807820271616 -59.5603 -7.32468 -1502.5  0.155798 -0.000566   \n",
       "3       4  265717257097707520 -60.2607  2.00153 -1502.5 -0.321307  0.028965   \n",
       "4       5  256713012780466176 -66.1137 -6.67106 -1502.5 -0.787132 -0.063110   \n",
       "\n",
       "        tpz    weight  \n",
       "0 -11.64190  0.000011  \n",
       "1 -17.71460  0.000015  \n",
       "2  -3.72562  0.000012  \n",
       "3  -7.84429  0.000012  \n",
       "4 -18.25040  0.000015  "
      ]
     },
     "execution_count": 24,
     "metadata": {},
     "output_type": "execute_result"
    }
   ],
   "source": [
    "truth_tables[0].to_pandas().head()"
   ]
  },
  {
   "cell_type": "code",
   "execution_count": 25,
   "id": "c1eac8e8-cc57-44b0-8606-3180aac74fbc",
   "metadata": {},
   "outputs": [
    {
     "data": {
      "text/plain": [
       "hit_id         9.830200e+04\n",
       "particle_id    8.917390e+17\n",
       "tx             1.024690e+03\n",
       "ty             1.024730e+03\n",
       "tz             2.955500e+03\n",
       "tpx            9.999910e+05\n",
       "tpy            9.999470e+05\n",
       "tpz            1.000000e+06\n",
       "weight         2.363910e-04\n",
       "dtype: float64"
      ]
     },
     "execution_count": 25,
     "metadata": {},
     "output_type": "execute_result"
    }
   ],
   "source": [
    "truth_tables[0].to_pandas().max()"
   ]
  },
  {
   "cell_type": "code",
   "execution_count": 26,
   "id": "11cc7c8f-4095-4aed-9ecb-4571f44091d7",
   "metadata": {},
   "outputs": [
    {
     "name": "stdout",
     "output_type": "stream",
     "text": [
      "CPU times: user 743 ms, sys: 160 ms, total: 903 ms\n",
      "Wall time: 984 ms\n"
     ]
    }
   ],
   "source": [
    "%%time\n",
    "with h5py.File('test.hdf5', 'r+') as fp:\n",
    "    \n",
    "    truth = fp.create_group('truth', **HDF5_GROUP_KWARGS)\n",
    "\n",
    "    # Event-level data\n",
    "    event_offset = truth.create_dataset('event_offset', (0,), maxshape=(None,), dtype='i4', **HDF5_DATASET_KWARGS)\n",
    "    event_length = truth.create_dataset('event_length', (0,), maxshape=(None,), dtype='i4', **HDF5_DATASET_KWARGS)\n",
    "\n",
    "    # Individual hits\n",
    "    hit_id = truth.create_dataset('hit_id', (0,), maxshape=(None,), dtype='i4', **HDF5_DATASET_KWARGS)\n",
    "    particle_id = truth.create_dataset('particle_id', (0,), maxshape=(None,), dtype='i8', **HDF5_DATASET_KWARGS)\n",
    "    tx = truth.create_dataset('tx', (0,), maxshape=(None,), dtype='f4', **HDF5_DATASET_KWARGS)\n",
    "    ty = truth.create_dataset('ty', (0,), maxshape=(None,), dtype='f4', **HDF5_DATASET_KWARGS)\n",
    "    tz = truth.create_dataset('tz', (0,), maxshape=(None,), dtype='f4', **HDF5_DATASET_KWARGS)\n",
    "    tpx = truth.create_dataset('tpx', (0,), maxshape=(None,), dtype='f4', **HDF5_DATASET_KWARGS)\n",
    "    tpy = truth.create_dataset('tpy', (0,), maxshape=(None,), dtype='f4', **HDF5_DATASET_KWARGS)\n",
    "    tpz = truth.create_dataset('tpz', (0,), maxshape=(None,), dtype='f4', **HDF5_DATASET_KWARGS)\n",
    "    weight = truth.create_dataset('weight', (0,), maxshape=(None,), dtype='f4', **HDF5_DATASET_KWARGS)\n",
    "    \n",
    "    current_event_offset = 0\n",
    "    for table in truth_tables:\n",
    "        N_hits = table.shape[0]\n",
    "        \n",
    "        for group in [event_offset, event_length]:\n",
    "            group.resize(group.shape[0] + 1, axis=0)\n",
    "        event_length[-1] = N_hits\n",
    "        event_offset[-1] = current_event_offset\n",
    "        current_event_offset += N_hits\n",
    "\n",
    "        for group in [hit_id, particle_id, tx, ty, tz, tpx, tpy, tpz, weight]:\n",
    "            group.resize(group.shape[0] + N_hits, axis=0)\n",
    "        hit_id[-N_hits:] = table['hit_id']\n",
    "        particle_id[-N_hits:] = table['particle_id']\n",
    "        tx[-N_hits:] = table['tx']\n",
    "        ty[-N_hits:] = table['ty']\n",
    "        tz[-N_hits:] = table['tz']\n",
    "        tpx[-N_hits:] = table['tpx']\n",
    "        tpy[-N_hits:] = table['tpy']\n",
    "        tpz[-N_hits:] = table['tpz']\n",
    "        weight[-N_hits:] = table['weight']"
   ]
  },
  {
   "cell_type": "code",
   "execution_count": 27,
   "id": "4edc632d-34cf-4f70-9c83-b910d06c97a9",
   "metadata": {},
   "outputs": [],
   "source": [
    "# Validation\n",
    "with h5py.File('test.hdf5', 'r') as f:\n",
    "\n",
    "    all_truth_table = pa.concat_tables(truth_tables)\n",
    "\n",
    "    for feature in ['hit_id', 'particle_id', 'tx', 'ty', 'tz', 'tpx', 'tpy', 'tpz', 'weight']:\n",
    "        assert np.allclose(f['truth'][feature][:], all_truth_table[feature].to_numpy())\n",
    "\n",
    "    assert all(f['truth/event_offset'][1:] - f['truth/event_offset'][:-1] == f['truth/event_length'][:-1])\n",
    "\n",
    "    for idx in range(len(truth_tables)):\n",
    "        offset = f['truth/event_offset'][idx]\n",
    "        length = f['truth/event_length'][idx]\n",
    "        for feature in ['hit_id', 'particle_id', 'tx', 'ty', 'tz', 'tpx', 'tpy', 'tpz', 'weight']:\n",
    "            assert np.allclose(f['truth'][feature][offset:offset+length], truth_tables[idx][feature].to_numpy())"
   ]
  },
  {
   "cell_type": "markdown",
   "id": "01d5ce9e-9900-43ba-a546-51287c79f5b1",
   "metadata": {},
   "source": [
    "## Check the resulting file"
   ]
  },
  {
   "cell_type": "code",
   "execution_count": 28,
   "id": "1bb929e3-d6ff-489f-9e5c-52f33ea407f8",
   "metadata": {},
   "outputs": [],
   "source": [
    "f = h5py.File('test.hdf5', 'r')"
   ]
  },
  {
   "cell_type": "code",
   "execution_count": 29,
   "id": "3cf28446-1893-43b3-aef5-8c08747fe780",
   "metadata": {},
   "outputs": [
    {
     "data": {
      "text/plain": [
       "<KeysViewHDF5 ['hits', 'cells', 'particles', 'truth']>"
      ]
     },
     "execution_count": 29,
     "metadata": {},
     "output_type": "execute_result"
    }
   ],
   "source": [
    "f.keys()"
   ]
  },
  {
   "cell_type": "code",
   "execution_count": 30,
   "id": "d01afdde-ca8f-4412-b7b8-48170c5672c6",
   "metadata": {},
   "outputs": [
    {
     "data": {
      "text/plain": [
       "<KeysViewHDF5 ['event_offset', 'event_length', 'hit_id', 'x', 'y', 'z', 'volume_id', 'layer_id', 'module_id']>"
      ]
     },
     "execution_count": 30,
     "metadata": {},
     "output_type": "execute_result"
    }
   ],
   "source": [
    "f['hits'].keys()"
   ]
  },
  {
   "cell_type": "code",
   "execution_count": 31,
   "id": "99c0f724-f1ba-42c8-807a-9f079d120aa1",
   "metadata": {},
   "outputs": [
    {
     "data": {
      "text/plain": [
       "<KeysViewHDF5 ['event_offset', 'event_length', 'hit_id', 'ch0', 'ch1', 'value']>"
      ]
     },
     "execution_count": 31,
     "metadata": {},
     "output_type": "execute_result"
    }
   ],
   "source": [
    "f['cells'].keys()"
   ]
  },
  {
   "cell_type": "code",
   "execution_count": 32,
   "id": "3f0979e7-e293-4502-94b6-766d61f8adbb",
   "metadata": {},
   "outputs": [
    {
     "data": {
      "text/plain": [
       "<KeysViewHDF5 ['event_offset', 'event_length', 'particle_id', 'particle_type', 'vx', 'vy', 'vz', 'px', 'py', 'pz', 'q', 'nhits']>"
      ]
     },
     "execution_count": 32,
     "metadata": {},
     "output_type": "execute_result"
    }
   ],
   "source": [
    "f['particles'].keys()"
   ]
  },
  {
   "cell_type": "code",
   "execution_count": 33,
   "id": "fc3d0937-7078-4951-a2fb-e73b481446b3",
   "metadata": {},
   "outputs": [
    {
     "data": {
      "text/plain": [
       "<KeysViewHDF5 ['event_offset', 'event_length', 'hit_id', 'particle_id', 'tx', 'ty', 'tz', 'tpx', 'tpy', 'tpz', 'weight']>"
      ]
     },
     "execution_count": 33,
     "metadata": {},
     "output_type": "execute_result"
    }
   ],
   "source": [
    "f['truth'].keys()"
   ]
  },
  {
   "cell_type": "code",
   "execution_count": 34,
   "id": "bf1b475e-f8cf-472f-8942-16c58feea576",
   "metadata": {},
   "outputs": [
    {
     "data": {
      "text/plain": [
       "(5467050,)"
      ]
     },
     "execution_count": 34,
     "metadata": {},
     "output_type": "execute_result"
    }
   ],
   "source": [
    "f['hits/hit_id'].shape"
   ]
  },
  {
   "cell_type": "code",
   "execution_count": 35,
   "id": "f85dce1f-87d6-4334-bdd4-eb59689fecc6",
   "metadata": {},
   "outputs": [
    {
     "data": {
      "text/plain": [
       "(18788818,)"
      ]
     },
     "execution_count": 35,
     "metadata": {},
     "output_type": "execute_result"
    }
   ],
   "source": [
    "f['cells/hit_id'].shape"
   ]
  },
  {
   "cell_type": "code",
   "execution_count": 36,
   "id": "e5e025fc-f49e-413a-b1d7-249f9b3bf9f7",
   "metadata": {},
   "outputs": [
    {
     "data": {
      "text/plain": [
       "(538589,)"
      ]
     },
     "execution_count": 36,
     "metadata": {},
     "output_type": "execute_result"
    }
   ],
   "source": [
    "f['particles/particle_id'].shape"
   ]
  },
  {
   "cell_type": "code",
   "execution_count": 37,
   "id": "f754d387-b999-498b-818b-d4d4d7cf21f4",
   "metadata": {},
   "outputs": [
    {
     "data": {
      "text/plain": [
       "(5467050,)"
      ]
     },
     "execution_count": 37,
     "metadata": {},
     "output_type": "execute_result"
    }
   ],
   "source": [
    "f['truth/hit_id'].shape"
   ]
  },
  {
   "cell_type": "code",
   "execution_count": 38,
   "id": "bf8096ae-aed7-421f-9b42-06f8bb8b4eb0",
   "metadata": {},
   "outputs": [],
   "source": [
    "f.close()"
   ]
  },
  {
   "cell_type": "markdown",
   "id": "a1e7ef43-b366-4857-aefa-98ec7bc50567",
   "metadata": {},
   "source": [
    "## Delete the test file"
   ]
  },
  {
   "cell_type": "code",
   "execution_count": 39,
   "id": "12c93192-f1e7-4c6e-bb47-fb82c98bc928",
   "metadata": {},
   "outputs": [],
   "source": [
    "! rm test.hdf5"
   ]
  }
 ],
 "metadata": {
  "kernelspec": {
   "display_name": "Python 3 (ipykernel)",
   "language": "python",
   "name": "python3"
  },
  "language_info": {
   "codemirror_mode": {
    "name": "ipython",
    "version": 3
   },
   "file_extension": ".py",
   "mimetype": "text/x-python",
   "name": "python",
   "nbconvert_exporter": "python",
   "pygments_lexer": "ipython3",
   "version": "3.10.15"
  }
 },
 "nbformat": 4,
 "nbformat_minor": 5
}
