{
 "cells": [
  {
   "cell_type": "code",
   "execution_count": 1,
   "id": "07994113-8301-46a0-973e-9b9f9c5503e4",
   "metadata": {
    "tags": []
   },
   "outputs": [],
   "source": [
    "%load_ext autoreload\n",
    "%autoreload 2"
   ]
  },
  {
   "cell_type": "code",
   "execution_count": 3,
   "id": "3e51f583-3e67-4203-8316-fc1ec61eb29a",
   "metadata": {
    "tags": []
   },
   "outputs": [],
   "source": [
    "import gtrack"
   ]
  },
  {
   "cell_type": "code",
   "execution_count": null,
   "id": "8364548d",
   "metadata": {},
   "outputs": [],
   "source": []
  }
 ],
 "metadata": {
  "kernelspec": {
   "display_name": "Python 3",
   "language": "python",
   "name": "python3"
  },
  "language_info": {
   "codemirror_mode": {
    "name": "ipython",
    "version": 3
   },
   "file_extension": ".py",
   "mimetype": "text/x-python",
   "name": "python",
   "nbconvert_exporter": "python",
   "pygments_lexer": "ipython3",
   "version": "3.12.2"
  }
 },
 "nbformat": 4,
 "nbformat_minor": 5
}
