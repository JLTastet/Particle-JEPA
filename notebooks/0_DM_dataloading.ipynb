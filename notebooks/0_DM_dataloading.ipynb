{
 "cells": [
  {
   "cell_type": "markdown",
   "metadata": {},
   "source": [
    "# Data loading & visualization"
   ]
  },
  {
   "cell_type": "markdown",
   "metadata": {},
   "source": [
    "## Roadmap\n",
    "\n",
    "- Load the model\n",
    "- Iterate through dataloader\n",
    "- Visualize some events"
   ]
  },
  {
   "cell_type": "code",
   "execution_count": 66,
   "metadata": {},
   "outputs": [
    {
     "name": "stdout",
     "output_type": "stream",
     "text": [
      "The autoreload extension is already loaded. To reload it, use:\n",
      "  %reload_ext autoreload\n"
     ]
    }
   ],
   "source": [
    "# use autoreload\n",
    "%load_ext autoreload\n",
    "%autoreload 2\n",
    "\n",
    "import yaml\n",
    "import numpy as np\n",
    "from tqdm import tqdm\n",
    "import seaborn as sns\n",
    "\n",
    "# imports\n",
    "from jepa.utils.dataset import TracksDatasetFixed"
   ]
  },
  {
   "cell_type": "markdown",
   "metadata": {},
   "source": [
    "## Explore dataloader"
   ]
  },
  {
   "cell_type": "markdown",
   "metadata": {},
   "source": []
  },
  {
   "cell_type": "code",
   "execution_count": 31,
   "metadata": {},
   "outputs": [],
   "source": [
    "with open(\"configs/0_testing.yaml\", \"r\") as f:\n",
    "    config = yaml.load(f, Loader=yaml.FullLoader)"
   ]
  },
  {
   "cell_type": "code",
   "execution_count": 32,
   "metadata": {},
   "outputs": [],
   "source": [
    "loader = TracksDatasetFixed(\n",
    "    **config[\"dataset_args\"]\n",
    ")"
   ]
  },
  {
   "cell_type": "code",
   "execution_count": 54,
   "metadata": {},
   "outputs": [],
   "source": [
    "event_list = []\n",
    "for i, event in enumerate(loader):\n",
    "    event_list.append(event)\n",
    "    \n",
    "    if i >= 99:\n",
    "        break"
   ]
  },
  {
   "cell_type": "code",
   "execution_count": 44,
   "metadata": {},
   "outputs": [
    {
     "data": {
      "text/plain": [
       "8.0"
      ]
     },
     "execution_count": 44,
     "metadata": {},
     "output_type": "execute_result"
    }
   ],
   "source": [
    "np.mean([x.shape[0] for x in x_list])"
   ]
  },
  {
   "cell_type": "code",
   "execution_count": 45,
   "metadata": {},
   "outputs": [
    {
     "data": {
      "text/plain": [
       "tensor([True, True, True, True, True, True, True, True])"
      ]
     },
     "execution_count": 45,
     "metadata": {},
     "output_type": "execute_result"
    }
   ],
   "source": [
    "mask\n"
   ]
  },
  {
   "cell_type": "code",
   "execution_count": 46,
   "metadata": {},
   "outputs": [
    {
     "data": {
      "text/html": [
       "<div>\n",
       "<style scoped>\n",
       "    .dataframe tbody tr th:only-of-type {\n",
       "        vertical-align: middle;\n",
       "    }\n",
       "\n",
       "    .dataframe tbody tr th {\n",
       "        vertical-align: top;\n",
       "    }\n",
       "\n",
       "    .dataframe thead th {\n",
       "        text-align: right;\n",
       "    }\n",
       "</style>\n",
       "<table border=\"1\" class=\"dataframe\">\n",
       "  <thead>\n",
       "    <tr style=\"text-align: right;\">\n",
       "      <th></th>\n",
       "      <th>vx</th>\n",
       "      <th>vy</th>\n",
       "      <th>vz</th>\n",
       "      <th>pt</th>\n",
       "      <th>pphi</th>\n",
       "      <th>dimension</th>\n",
       "      <th>charge</th>\n",
       "      <th>particle_id</th>\n",
       "      <th>d0</th>\n",
       "      <th>phi</th>\n",
       "    </tr>\n",
       "  </thead>\n",
       "  <tbody>\n",
       "    <tr>\n",
       "      <th>0</th>\n",
       "      <td>0.091989</td>\n",
       "      <td>-0.109776</td>\n",
       "      <td>0.0</td>\n",
       "      <td>2.556555</td>\n",
       "      <td>-3.010782</td>\n",
       "      <td>2</td>\n",
       "      <td>-1</td>\n",
       "      <td>0</td>\n",
       "      <td>0.054453</td>\n",
       "      <td>0.497887</td>\n",
       "    </tr>\n",
       "  </tbody>\n",
       "</table>\n",
       "</div>"
      ],
      "text/plain": [
       "         vx        vy   vz        pt      pphi  dimension  charge  \\\n",
       "0  0.091989 -0.109776  0.0  2.556555 -3.010782          2      -1   \n",
       "\n",
       "   particle_id        d0       phi  \n",
       "0            0  0.054453  0.497887  "
      ]
     },
     "execution_count": 46,
     "metadata": {},
     "output_type": "execute_result"
    }
   ],
   "source": [
    "event_df.particles"
   ]
  },
  {
   "cell_type": "code",
   "execution_count": 47,
   "metadata": {},
   "outputs": [
    {
     "data": {
      "text/plain": [
       "array([[2, 0, 4, 6, 5, 1, 7],\n",
       "       [0, 4, 6, 5, 1, 7, 3]])"
      ]
     },
     "execution_count": 47,
     "metadata": {},
     "output_type": "execute_result"
    }
   ],
   "source": [
    "event_df.tracks"
   ]
  },
  {
   "cell_type": "code",
   "execution_count": 48,
   "metadata": {},
   "outputs": [
    {
     "data": {
      "text/html": [
       "<div>\n",
       "<style scoped>\n",
       "    .dataframe tbody tr th:only-of-type {\n",
       "        vertical-align: middle;\n",
       "    }\n",
       "\n",
       "    .dataframe tbody tr th {\n",
       "        vertical-align: top;\n",
       "    }\n",
       "\n",
       "    .dataframe thead th {\n",
       "        text-align: right;\n",
       "    }\n",
       "</style>\n",
       "<table border=\"1\" class=\"dataframe\">\n",
       "  <thead>\n",
       "    <tr style=\"text-align: right;\">\n",
       "      <th></th>\n",
       "      <th>x</th>\n",
       "      <th>y</th>\n",
       "      <th>particle_id</th>\n",
       "    </tr>\n",
       "  </thead>\n",
       "  <tbody>\n",
       "    <tr>\n",
       "      <th>0</th>\n",
       "      <td>0.080726</td>\n",
       "      <td>-0.853333</td>\n",
       "      <td>0</td>\n",
       "    </tr>\n",
       "    <tr>\n",
       "      <th>1</th>\n",
       "      <td>-0.592553</td>\n",
       "      <td>-2.207571</td>\n",
       "      <td>0</td>\n",
       "    </tr>\n",
       "    <tr>\n",
       "      <th>2</th>\n",
       "      <td>0.113457</td>\n",
       "      <td>-0.486957</td>\n",
       "      <td>0</td>\n",
       "    </tr>\n",
       "    <tr>\n",
       "      <th>3</th>\n",
       "      <td>-1.273010</td>\n",
       "      <td>-2.716514</td>\n",
       "      <td>0</td>\n",
       "    </tr>\n",
       "    <tr>\n",
       "      <th>4</th>\n",
       "      <td>-0.005207</td>\n",
       "      <td>-1.214275</td>\n",
       "      <td>0</td>\n",
       "    </tr>\n",
       "    <tr>\n",
       "      <th>5</th>\n",
       "      <td>-0.340602</td>\n",
       "      <td>-1.898257</td>\n",
       "      <td>0</td>\n",
       "    </tr>\n",
       "    <tr>\n",
       "      <th>6</th>\n",
       "      <td>-0.145266</td>\n",
       "      <td>-1.564700</td>\n",
       "      <td>0</td>\n",
       "    </tr>\n",
       "    <tr>\n",
       "      <th>7</th>\n",
       "      <td>-0.902705</td>\n",
       "      <td>-2.483912</td>\n",
       "      <td>0</td>\n",
       "    </tr>\n",
       "  </tbody>\n",
       "</table>\n",
       "</div>"
      ],
      "text/plain": [
       "          x         y  particle_id\n",
       "0  0.080726 -0.853333            0\n",
       "1 -0.592553 -2.207571            0\n",
       "2  0.113457 -0.486957            0\n",
       "3 -1.273010 -2.716514            0\n",
       "4 -0.005207 -1.214275            0\n",
       "5 -0.340602 -1.898257            0\n",
       "6 -0.145266 -1.564700            0\n",
       "7 -0.902705 -2.483912            0"
      ]
     },
     "execution_count": 48,
     "metadata": {},
     "output_type": "execute_result"
    }
   ],
   "source": [
    "event_df.hits"
   ]
  },
  {
   "cell_type": "code",
   "execution_count": 49,
   "metadata": {},
   "outputs": [
    {
     "data": {
      "image/png": "[encoded data removed]",
      "text/plain": [
       "<Figure size 640x480 with 1 Axes>"
      ]
     },
     "metadata": {},
     "output_type": "display_data"
    }
   ],
   "source": [
    "event_df.display()"
   ]
  },
  {
   "cell_type": "markdown",
   "metadata": {},
   "source": [
    "## Circle Fit"
   ]
  },
  {
   "cell_type": "code",
   "execution_count": 81,
   "metadata": {},
   "outputs": [],
   "source": [
    "from jepa.utils import fit_circle"
   ]
  },
  {
   "cell_type": "code",
   "execution_count": 51,
   "metadata": {},
   "outputs": [],
   "source": [
    "(cx, cy), r = fit_circle(event_df.hits.x, event_df.hits.y)"
   ]
  },
  {
   "cell_type": "code",
   "execution_count": 52,
   "metadata": {},
   "outputs": [
    {
     "name": "stdout",
     "output_type": "stream",
     "text": [
      "Center: (-2.442724482208368, -0.4432470998937373), Radius: 2.5565550374846193\n"
     ]
    }
   ],
   "source": [
    "print(f\"Center: {(cx, cy)}, Radius: {r}\")"
   ]
  },
  {
   "cell_type": "code",
   "execution_count": 62,
   "metadata": {},
   "outputs": [
    {
     "name": "stderr",
     "output_type": "stream",
     "text": [
      "100%|██████████| 100/100 [00:00<00:00, 3727.87it/s]\n",
      "100%|██████████| 100/100 [00:00<00:00, 117916.90it/s]\n"
     ]
    }
   ],
   "source": [
    "pred_pts = [fit_circle(event[2].hits.x, event[2].hits.y)[1] for event in tqdm(event_list)]\n",
    "true_pts = [event[2].particles.pt.values for event in tqdm(event_list)]"
   ]
  },
  {
   "cell_type": "code",
   "execution_count": 63,
   "metadata": {},
   "outputs": [
    {
     "data": {
      "text/plain": [
       "[array([2.53930848]),\n",
       " array([2.585624]),\n",
       " array([2.57580482]),\n",
       " array([2.59581717]),\n",
       " array([2.5731405]),\n",
       " array([2.50454912]),\n",
       " array([2.58235945]),\n",
       " array([2.5118899]),\n",
       " array([2.54700225]),\n",
       " array([2.55363245]),\n",
       " array([2.50588839]),\n",
       " array([2.57391009]),\n",
       " array([2.54119825]),\n",
       " array([2.51200096]),\n",
       " array([2.53700414]),\n",
       " array([2.5929095]),\n",
       " array([2.5470917]),\n",
       " array([2.55485223]),\n",
       " array([2.55124018]),\n",
       " array([2.58736983]),\n",
       " array([2.52692361]),\n",
       " array([2.53769196]),\n",
       " array([2.56313986]),\n",
       " array([2.59285644]),\n",
       " array([2.50542564]),\n",
       " array([2.51138969]),\n",
       " array([2.56469827]),\n",
       " array([2.54003808]),\n",
       " array([2.51373058]),\n",
       " array([2.50614599]),\n",
       " array([2.54896007]),\n",
       " array([2.58546841]),\n",
       " array([2.55564811]),\n",
       " array([2.51507722]),\n",
       " array([2.56431617]),\n",
       " array([2.53010154]),\n",
       " array([2.5056971]),\n",
       " array([2.59632414]),\n",
       " array([2.5320487]),\n",
       " array([2.55312234]),\n",
       " array([2.51507988]),\n",
       " array([2.53266654]),\n",
       " array([2.5754509]),\n",
       " array([2.52109326]),\n",
       " array([2.59862233]),\n",
       " array([2.55468166]),\n",
       " array([2.54764319]),\n",
       " array([2.5849096]),\n",
       " array([2.56703094]),\n",
       " array([2.5491306]),\n",
       " array([2.56446289]),\n",
       " array([2.55014251]),\n",
       " array([2.59014826]),\n",
       " array([2.52950099]),\n",
       " array([2.58851988]),\n",
       " array([2.56949501]),\n",
       " array([2.52156354]),\n",
       " array([2.54362526]),\n",
       " array([2.53551113]),\n",
       " array([2.54304526]),\n",
       " array([2.5841019]),\n",
       " array([2.5168177]),\n",
       " array([2.51667579]),\n",
       " array([2.58618434]),\n",
       " array([2.55371733]),\n",
       " array([2.57819376]),\n",
       " array([2.59265381]),\n",
       " array([2.55766449]),\n",
       " array([2.52608019]),\n",
       " array([2.54271023]),\n",
       " array([2.53273731]),\n",
       " array([2.58401411]),\n",
       " array([2.51976055]),\n",
       " array([2.51057707]),\n",
       " array([2.51327723]),\n",
       " array([2.58124805]),\n",
       " array([2.57574438]),\n",
       " array([2.54028939]),\n",
       " array([2.52268556]),\n",
       " array([2.50430926]),\n",
       " array([2.59385794]),\n",
       " array([2.52099157]),\n",
       " array([2.54430383]),\n",
       " array([2.54088108]),\n",
       " array([2.55415988]),\n",
       " array([2.55387458]),\n",
       " array([2.55607045]),\n",
       " array([2.54130487]),\n",
       " array([2.51644761]),\n",
       " array([2.57085433]),\n",
       " array([2.50499416]),\n",
       " array([2.52337298]),\n",
       " array([2.58076365]),\n",
       " array([2.53031885]),\n",
       " array([2.58615505]),\n",
       " array([2.54611948]),\n",
       " array([2.51026861]),\n",
       " array([2.50849579]),\n",
       " array([2.50331736]),\n",
       " array([2.52248692])]"
      ]
     },
     "execution_count": 63,
     "metadata": {},
     "output_type": "execute_result"
    }
   ],
   "source": [
    "true_pts"
   ]
  },
  {
   "cell_type": "code",
   "execution_count": 72,
   "metadata": {},
   "outputs": [],
   "source": [
    "errors = np.concatenate([np.abs(true_pt - pred_pt) for true_pt, pred_pt in zip(true_pts, pred_pts)])"
   ]
  },
  {
   "cell_type": "code",
   "execution_count": 73,
   "metadata": {},
   "outputs": [
    {
     "data": {
      "text/plain": [
       "<Axes: ylabel='Count'>"
      ]
     },
     "execution_count": 73,
     "metadata": {},
     "output_type": "execute_result"
    },
    {
     "data": {
      "image/png": "[encoded data removed]",
      "text/plain": [
       "<Figure size 640x480 with 1 Axes>"
      ]
     },
     "metadata": {},
     "output_type": "display_data"
    }
   ],
   "source": [
    "sns.histplot(errors)"
   ]
  },
  {
   "cell_type": "markdown",
   "metadata": {},
   "source": [
    "## Nearest Neighbors"
   ]
  },
  {
   "cell_type": "code",
   "execution_count": 77,
   "metadata": {},
   "outputs": [],
   "source": [
    "from torch_geometric.nn import radius_graph"
   ]
  },
  {
   "cell_type": "code",
   "execution_count": 80,
   "metadata": {},
   "outputs": [
    {
     "data": {
      "text/plain": [
       "tensor([[2, 4, 6, 3, 5, 6, 7, 0, 4, 1, 7, 0, 2, 5, 6, 1, 4, 6, 7, 0, 1, 4, 5, 1,\n",
       "         3, 5],\n",
       "        [0, 0, 0, 1, 1, 1, 1, 2, 2, 3, 3, 4, 4, 4, 4, 5, 5, 5, 5, 6, 6, 6, 6, 7,\n",
       "         7, 7]])"
      ]
     },
     "execution_count": 80,
     "metadata": {},
     "output_type": "execute_result"
    }
   ],
   "source": [
    "radius_graph(x, r=1)"
   ]
  },
  {
   "cell_type": "code",
   "execution_count": 83,
   "metadata": {},
   "outputs": [
    {
     "name": "stderr",
     "output_type": "stream",
     "text": [
      "100%|██████████| 100/100 [00:00<00:00, 3218.81it/s]\n"
     ]
    },
    {
     "data": {
      "text/plain": [
       "torch.Size([100, 3])"
      ]
     },
     "execution_count": 83,
     "metadata": {},
     "output_type": "execute_result"
    }
   ],
   "source": [
    "param_space = torch.stack([torch.tensor(fit_circle(event[2].hits.x, event[2].hits.y)) for event in tqdm(event_list)])\n",
    "batch = torch.arange(param_space.shape[0])\n",
    "param_space.shape"
   ]
  },
  {
   "cell_type": "code",
   "execution_count": 85,
   "metadata": {},
   "outputs": [
    {
     "data": {
      "text/plain": [
       "tensor([], size=(2, 0), dtype=torch.int64)"
      ]
     },
     "execution_count": 85,
     "metadata": {},
     "output_type": "execute_result"
    }
   ],
   "source": [
    "radius_graph(param_space, 0.1, batch=batch)"
   ]
  },
  {
   "cell_type": "code",
   "execution_count": 86,
   "metadata": {},
   "outputs": [
    {
     "data": {
      "text/plain": [
       "tensor([[-1.6460, -1.9606,  2.5393],\n",
       "        [ 2.3365,  0.9241,  2.5856],\n",
       "        [ 2.0359, -1.6414,  2.5758],\n",
       "        [ 0.4599,  2.4749,  2.5958],\n",
       "        [ 1.0096,  2.3216,  2.5731],\n",
       "        [ 2.0760,  1.1857,  2.5045],\n",
       "        [ 2.0706, -1.6056,  2.5824],\n",
       "        [ 0.3896,  2.5181,  2.5119],\n",
       "        [-1.3692,  2.0884,  2.5470],\n",
       "        [ 0.6784, -2.5248,  2.5536],\n",
       "        [ 0.6575,  2.3875,  2.5059],\n",
       "        [ 0.7471,  2.4874,  2.5739],\n",
       "        [-0.1323, -2.6469,  2.5412],\n",
       "        [ 2.3324, -0.8756,  2.5120],\n",
       "        [ 1.8241, -1.5889,  2.5370],\n",
       "        [ 0.1567, -2.5915,  2.5929],\n",
       "        [-2.5065,  0.5706,  2.5471],\n",
       "        [-1.9387,  1.5845,  2.5549],\n",
       "        [-1.8405,  1.8416,  2.5512],\n",
       "        [ 2.3502,  1.2262,  2.5874],\n",
       "        [ 1.4639,  1.9034,  2.5269],\n",
       "        [ 2.5622,  0.1519,  2.5377],\n",
       "        [-2.5013, -0.3612,  2.5631],\n",
       "        [-1.8165,  1.7679,  2.5929],\n",
       "        [-0.7772, -2.3835,  2.5054],\n",
       "        [-1.6186, -1.8720,  2.5114],\n",
       "        [-1.2457,  2.2945,  2.5647],\n",
       "        [-2.4699,  0.3095,  2.5400],\n",
       "        [ 0.6310, -2.4613,  2.5137],\n",
       "        [ 2.4327,  0.1095,  2.5061],\n",
       "        [ 1.2804,  2.2563,  2.5490],\n",
       "        [ 2.5092, -0.1087,  2.5855],\n",
       "        [ 2.6250, -0.5228,  2.5556],\n",
       "        [-1.4294, -2.0777,  2.5151],\n",
       "        [ 0.9881, -2.2678,  2.5643],\n",
       "        [ 2.5000, -0.1836,  2.5301],\n",
       "        [ 0.0419, -2.5059,  2.5057],\n",
       "        [-0.2501, -2.4614,  2.5963],\n",
       "        [ 2.1793,  1.2451,  2.5320],\n",
       "        [-1.2567, -2.1823,  2.5531],\n",
       "        [-0.5966, -2.4012,  2.5151],\n",
       "        [-2.5039, -0.0132,  2.5327],\n",
       "        [ 0.0213,  2.5970,  2.5755],\n",
       "        [ 2.4797,  0.6059,  2.5211],\n",
       "        [ 1.4440, -2.2031,  2.5986],\n",
       "        [ 0.2713,  2.4856,  2.5547],\n",
       "        [ 1.5482, -2.0381,  2.5476],\n",
       "        [-2.3914,  0.7835,  2.5849],\n",
       "        [ 1.2104,  2.3482,  2.5670],\n",
       "        [ 1.3587,  2.1868,  2.5491],\n",
       "        [-2.1336, -1.6170,  2.5645],\n",
       "        [ 2.6028,  0.1430,  2.5501],\n",
       "        [-2.5344,  0.4245,  2.5901],\n",
       "        [ 2.0010,  1.5477,  2.5295],\n",
       "        [-2.3236,  1.1244,  2.5885],\n",
       "        [-1.0174,  2.3812,  2.5695],\n",
       "        [-2.4037,  1.0310,  2.5216],\n",
       "        [ 1.7589,  1.8177,  2.5436],\n",
       "        [ 2.6250,  0.4328,  2.5355],\n",
       "        [ 1.8634, -1.7765,  2.5430],\n",
       "        [-0.4134, -2.4989,  2.5841],\n",
       "        [-1.9098,  1.4842,  2.5168],\n",
       "        [ 2.2920, -1.2832,  2.5167],\n",
       "        [ 1.9530,  1.7066,  2.5862],\n",
       "        [ 2.4718,  0.6355,  2.5537],\n",
       "        [ 0.6291, -2.5856,  2.5782],\n",
       "        [ 0.9355, -2.3861,  2.5927],\n",
       "        [ 1.5103, -1.9431,  2.5577],\n",
       "        [ 2.1566,  1.4640,  2.5261],\n",
       "        [-1.3456, -2.1579,  2.5427],\n",
       "        [ 2.5125, -0.3708,  2.5327],\n",
       "        [ 1.9405, -1.6384,  2.5840],\n",
       "        [-0.1417,  2.5275,  2.5198],\n",
       "        [ 1.7729,  1.7874,  2.5106],\n",
       "        [-2.3463,  0.6770,  2.5133],\n",
       "        [-2.5238, -0.8247,  2.5812],\n",
       "        [ 2.0097, -1.5512,  2.5757],\n",
       "        [-2.1414, -1.2190,  2.5403],\n",
       "        [-1.8540, -1.8860,  2.5227],\n",
       "        [-1.4062,  2.1496,  2.5043],\n",
       "        [ 2.3366,  1.2047,  2.5939],\n",
       "        [ 1.3058,  2.1973,  2.5210],\n",
       "        [ 2.4747, -0.7360,  2.5443],\n",
       "        [-2.5502, -0.6160,  2.5409],\n",
       "        [ 1.6253, -1.9240,  2.5542],\n",
       "        [-2.5565, -0.0878,  2.5539],\n",
       "        [ 2.5408,  0.0762,  2.5561],\n",
       "        [ 1.0268, -2.2662,  2.5413],\n",
       "        [-2.0646, -1.5896,  2.5164],\n",
       "        [ 2.1013,  1.4659,  2.5709],\n",
       "        [-1.6783,  1.7297,  2.5050],\n",
       "        [-2.4872, -0.5518,  2.5234],\n",
       "        [-2.6534,  0.1355,  2.5808],\n",
       "        [-2.1476, -1.4154,  2.5303],\n",
       "        [-1.5106, -2.0579,  2.5862],\n",
       "        [ 0.0808, -2.5426,  2.5461],\n",
       "        [ 2.1980,  1.2473,  2.5103],\n",
       "        [-1.9110,  1.5991,  2.5085],\n",
       "        [-2.5169,  0.7329,  2.5033],\n",
       "        [ 2.6277,  0.2863,  2.5225]], dtype=torch.float64)"
      ]
     },
     "execution_count": 86,
     "metadata": {},
     "output_type": "execute_result"
    }
   ],
   "source": [
    "param_space"
   ]
  },
  {
   "cell_type": "code",
   "execution_count": null,
   "metadata": {},
   "outputs": [],
   "source": []
  }
 ],
 "metadata": {
  "kernelspec": {
   "display_name": "jepa",
   "language": "python",
   "name": "python3"
  },
  "language_info": {
   "codemirror_mode": {
    "name": "ipython",
    "version": 3
   },
   "file_extension": ".py",
   "mimetype": "text/x-python",
   "name": "python",
   "nbconvert_exporter": "python",
   "pygments_lexer": "ipython3",
   "version": "3.10.14"
  }
 },
 "nbformat": 4,
 "nbformat_minor": 2
}
