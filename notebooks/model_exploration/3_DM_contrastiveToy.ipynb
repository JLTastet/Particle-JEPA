{
 "cells": [
  {
   "cell_type": "markdown",
   "metadata": {},
   "source": [
    "# Build some toy models and how to sample them"
   ]
  },
  {
   "cell_type": "markdown",
   "metadata": {},
   "source": [
    "## Roadmap\n",
    "\n",
    "- Step through training loop, line by line\n",
    "- Run small training run!"
   ]
  },
  {
   "cell_type": "code",
   "execution_count": 1,
   "metadata": {},
   "outputs": [],
   "source": [
    "# use autoreload\n",
    "%load_ext autoreload\n",
    "%autoreload 2\n",
    "\n",
    "import yaml\n",
    "import numpy as np\n",
    "from tqdm import tqdm\n",
    "import seaborn as sns\n",
    "import matplotlib.pyplot as plt\n",
    "import torch.nn.functional as F\n",
    "import torch\n",
    "\n",
    "# import lightning trainer\n",
    "import lightning as L\n",
    "from lightning.pytorch.loggers import WandbLogger\n",
    "\n",
    "# imports\n",
    "from jepa.modules import SemiContrastiveLearning"
   ]
  },
  {
   "cell_type": "markdown",
   "metadata": {},
   "source": [
    "## Explore Model Loading"
   ]
  },
  {
   "cell_type": "code",
   "execution_count": 2,
   "metadata": {},
   "outputs": [],
   "source": [
    "with open(\"configs/3_testing.yaml\", \"r\") as f:\n",
    "    config = yaml.load(f, Loader=yaml.FullLoader)"
   ]
  },
  {
   "cell_type": "code",
   "execution_count": 3,
   "metadata": {},
   "outputs": [],
   "source": [
    "model = SemiContrastiveLearning(**config)"
   ]
  },
  {
   "cell_type": "markdown",
   "metadata": {},
   "source": [
    "## Training Step"
   ]
  },
  {
   "cell_type": "code",
   "execution_count": 13,
   "metadata": {},
   "outputs": [
    {
     "name": "stdout",
     "output_type": "stream",
     "text": [
      "torch.Size([1, 8, 2]) torch.Size([1, 8])\n",
      "torch.Size([1, 8]) torch.Size([1, 8])\n"
     ]
    }
   ],
   "source": [
    "for batch in model.train_dataloader():\n",
    "    x, mask, events_df = batch\n",
    "    print(x.shape, mask.shape)\n",
    "\n",
    "    context_mask, target_mask, inner_target_flag = model.sample_context(x, mask)\n",
    "    print(context_mask.shape, target_mask.shape)\n",
    "\n",
    "    break\n"
   ]
  },
  {
   "cell_type": "code",
   "execution_count": 14,
   "metadata": {},
   "outputs": [
    {
     "name": "stderr",
     "output_type": "stream",
     "text": [
      "/global/homes/d/danieltm/.conda/envs/jepa/lib/python3.10/site-packages/lightning/pytorch/core/module.py:436: You are trying to `self.log()` but the `self.trainer` reference is not registered on the model yet. This is most likely because the model hasn't been passed to the `Trainer`\n"
     ]
    },
    {
     "data": {
      "text/plain": [
       "tensor(0.0359, grad_fn=<MseLossBackward0>)"
      ]
     },
     "execution_count": 14,
     "metadata": {},
     "output_type": "execute_result"
    }
   ],
   "source": [
    "model.training_step(batch, 0)"
   ]
  },
  {
   "cell_type": "code",
   "execution_count": 18,
   "metadata": {},
   "outputs": [],
   "source": [
    "x, mask, *_ = batch\n",
    "context_mask, target_mask, inner_target_flag = model.sample_context(x, mask)\n",
    "x = x.permute(1, 0, 2)\n",
    "target = model.embed_target(x, mask, target_mask)\n",
    "context = model.encoder(x, context_mask, context_mask)\n",
    "prediction = model.predictor(context)\n",
    "\n",
    "loss = F.mse_loss(prediction, target)"
   ]
  },
  {
   "cell_type": "code",
   "execution_count": 19,
   "metadata": {},
   "outputs": [
    {
     "data": {
      "text/plain": [
       "(torch.Size([8, 1, 2]), torch.Size([1, 8]))"
      ]
     },
     "execution_count": 19,
     "metadata": {},
     "output_type": "execute_result"
    }
   ],
   "source": [
    "x.shape, target_mask.shape"
   ]
  },
  {
   "cell_type": "code",
   "execution_count": 20,
   "metadata": {},
   "outputs": [
    {
     "data": {
      "image/png": "[encoded data removed]",
      "text/plain": [
       "<Figure size 640x480 with 1 Axes>"
      ]
     },
     "metadata": {},
     "output_type": "display_data"
    }
   ],
   "source": [
    "# Plot the x positions, along with whether they are in the context or target mask\n",
    "plt.scatter(x[:, 0, 0], x[:, 0, 1], c=target_mask[0])\n",
    "plt.show()"
   ]
  },
  {
   "cell_type": "markdown",
   "metadata": {},
   "source": [
    "## Train Run"
   ]
  },
  {
   "cell_type": "code",
   "execution_count": 4,
   "metadata": {},
   "outputs": [],
   "source": [
    "with open(\"configs/3_testing.yaml\", \"r\") as f:\n",
    "    config = yaml.load(f, Loader=yaml.FullLoader)"
   ]
  },
  {
   "cell_type": "code",
   "execution_count": 5,
   "metadata": {},
   "outputs": [],
   "source": [
    "model = SemiContrastiveLearning(**config)"
   ]
  },
  {
   "cell_type": "code",
   "execution_count": 6,
   "metadata": {},
   "outputs": [
    {
     "name": "stderr",
     "output_type": "stream",
     "text": [
      "/global/homes/d/danieltm/.conda/envs/jepa/lib/python3.10/site-packages/lightning/fabric/plugins/environments/slurm.py:204: The `srun` command is available on your system but is not used. HINT: If your intention is to run Lightning on SLURM, prepend your python command with `srun` like so: srun python /global/homes/d/danieltm/.conda/envs/jepa/lib/python ...\n",
      "GPU available: True (cuda), used: True\n",
      "TPU available: False, using: 0 TPU cores\n",
      "IPU available: False, using: 0 IPUs\n",
      "HPU available: False, using: 0 HPUs\n",
      "You are using a CUDA device ('NVIDIA A100-PCIE-40GB') that has Tensor Cores. To properly utilize them, you should set `torch.set_float32_matmul_precision('medium' | 'high')` which will trade-off precision for performance. For more details, read https://pytorch.org/docs/stable/generated/torch.set_float32_matmul_precision.html#torch.set_float32_matmul_precision\n",
      "Failed to detect the name of this notebook, you can set it manually with the WANDB_NOTEBOOK_NAME environment variable to enable code saving.\n",
      "\u001b[34m\u001b[1mwandb\u001b[0m: Currently logged in as: \u001b[33mmurnanedaniel\u001b[0m. Use \u001b[1m`wandb login --relogin`\u001b[0m to force relogin\n"
     ]
    },
    {
     "data": {
      "text/html": [
       "wandb version 0.17.1 is available!  To upgrade, please run:\n",
       " $ pip install wandb --upgrade"
      ],
      "text/plain": [
       "<IPython.core.display.HTML object>"
      ]
     },
     "metadata": {},
     "output_type": "display_data"
    },
    {
     "data": {
      "text/html": [
       "Tracking run with wandb version 0.16.5"
      ],
      "text/plain": [
       "<IPython.core.display.HTML object>"
      ]
     },
     "metadata": {},
     "output_type": "display_data"
    },
    {
     "data": {
      "text/html": [
       "Run data is saved locally in <code>./wandb/run-20240614_074403-595ktzjl</code>"
      ],
      "text/plain": [
       "<IPython.core.display.HTML object>"
      ]
     },
     "metadata": {},
     "output_type": "display_data"
    },
    {
     "data": {
      "text/html": [
       "Syncing run <strong><a href='https://wandb.ai/murnanedaniel/JEPA_toytrack_splittracks_2/runs/595ktzjl/workspace' target=\"_blank\">gallant-feather-5</a></strong> to <a href='https://wandb.ai/murnanedaniel/JEPA_toytrack_splittracks_2' target=\"_blank\">Weights & Biases</a> (<a href='https://wandb.me/run' target=\"_blank\">docs</a>)<br/>"
      ],
      "text/plain": [
       "<IPython.core.display.HTML object>"
      ]
     },
     "metadata": {},
     "output_type": "display_data"
    },
    {
     "data": {
      "text/html": [
       " View project at <a href='https://wandb.ai/murnanedaniel/JEPA_toytrack_splittracks_2' target=\"_blank\">https://wandb.ai/murnanedaniel/JEPA_toytrack_splittracks_2</a>"
      ],
      "text/plain": [
       "<IPython.core.display.HTML object>"
      ]
     },
     "metadata": {},
     "output_type": "display_data"
    },
    {
     "data": {
      "text/html": [
       " View run at <a href='https://wandb.ai/murnanedaniel/JEPA_toytrack_splittracks_2/runs/595ktzjl/workspace' target=\"_blank\">https://wandb.ai/murnanedaniel/JEPA_toytrack_splittracks_2/runs/595ktzjl/workspace</a>"
      ],
      "text/plain": [
       "<IPython.core.display.HTML object>"
      ]
     },
     "metadata": {},
     "output_type": "display_data"
    },
    {
     "name": "stderr",
     "output_type": "stream",
     "text": [
      "LOCAL_RANK: 0 - CUDA_VISIBLE_DEVICES: [0]\n",
      "\n",
      "  | Name        | Type        | Params\n",
      "--------------------------------------------\n",
      "0 | encoder     | JEPAEncoder | 5.6 K \n",
      "1 | ema_encoder | JEPAEncoder | 5.6 K \n",
      "2 | predictor   | Identity    | 0     \n",
      "--------------------------------------------\n",
      "5.6 K     Trainable params\n",
      "5.6 K     Non-trainable params\n",
      "11.2 K    Total params\n",
      "0.045     Total estimated model params size (MB)\n"
     ]
    },
    {
     "name": "stdout",
     "output_type": "stream",
     "text": [
      "                                                                           \r"
     ]
    },
    {
     "name": "stderr",
     "output_type": "stream",
     "text": [
      "/global/homes/d/danieltm/.conda/envs/jepa/lib/python3.10/site-packages/lightning/pytorch/utilities/data.py:77: Trying to infer the `batch_size` from an ambiguous collection. The batch size we found is 100. To avoid any miscalculations, use `self.log(..., batch_size=batch_size)`.\n"
     ]
    },
    {
     "name": "stdout",
     "output_type": "stream",
     "text": [
      "Epoch 99: 100%|██████████| 100/100 [00:19<00:00,  5.08it/s, v_num=tzjl]"
     ]
    },
    {
     "name": "stderr",
     "output_type": "stream",
     "text": [
      "`Trainer.fit` stopped: `max_epochs=100` reached.\n"
     ]
    },
    {
     "name": "stdout",
     "output_type": "stream",
     "text": [
      "Epoch 99: 100%|██████████| 100/100 [00:19<00:00,  5.06it/s, v_num=tzjl]\n"
     ]
    }
   ],
   "source": [
    "wandb_logger = WandbLogger(project=\"JEPA_toytrack_splittracks_2\")\n",
    "trainer = L.Trainer(\n",
    "    max_epochs=100, \n",
    "    devices=1, \n",
    "    accelerator=\"gpu\", \n",
    "    limit_train_batches = config[\"train_batches\"], \n",
    "    limit_val_batches = config[\"val_batches\"],\n",
    "    logger = wandb_logger\n",
    ")\n",
    "trainer.fit(model=model)"
   ]
  },
  {
   "cell_type": "markdown",
   "metadata": {},
   "source": [
    "## Visualize Source-Target Encodings"
   ]
  },
  {
   "cell_type": "markdown",
   "metadata": {},
   "source": []
  },
  {
   "cell_type": "code",
   "execution_count": 24,
   "metadata": {},
   "outputs": [],
   "source": [
    "model = model.to(\"cpu\")"
   ]
  },
  {
   "cell_type": "code",
   "execution_count": 25,
   "metadata": {},
   "outputs": [],
   "source": [
    "# Loop through a 10 batches, append the source, target encodings\n",
    "source_encodings = []\n",
    "target_encodings = []\n",
    "\n",
    "batches = 0\n",
    "\n",
    "with torch.no_grad():\n",
    "    for batch in model.train_dataloader():\n",
    "        results = model.shared_evaluation(batch, 0)\n",
    "        source_encodings.append(results[\"context\"].detach())\n",
    "        target_encodings.append(results[\"target\"].detach())\n",
    "        batches += 1\n",
    "        if batches > 10:\n",
    "            break\n"
   ]
  },
  {
   "cell_type": "code",
   "execution_count": 26,
   "metadata": {},
   "outputs": [
    {
     "data": {
      "image/png": "[encoded data removed]",
      "text/plain": [
       "<Figure size 800x600 with 1 Axes>"
      ]
     },
     "metadata": {},
     "output_type": "display_data"
    }
   ],
   "source": [
    "# Now PCA down the source and target encodings\n",
    "\n",
    "# Sketch of changes:\n",
    "# - Concatenate the source and target encodings into a single matrix\n",
    "# - Perform PCA on the concatenated matrix to reduce dimensionality \n",
    "# - Extract the transformed source and target encodings from the PCA result\n",
    "# - Visualize the PCA-transformed encodings in a scatter plot with matching colors for source and target encodings\n",
    "# - Use 'o' for source encodings and 'x' for target encodings\n",
    "\n",
    "import numpy as np\n",
    "from sklearn.decomposition import PCA\n",
    "import matplotlib.pyplot as plt\n",
    "\n",
    "# Concatenate source and target encodings\n",
    "source_encodings_cat = np.concatenate([x.numpy() for x in source_encodings], axis=0)\n",
    "target_encodings_cat = np.concatenate([x.numpy() for x in target_encodings], axis=0)\n",
    "encodings_matrix = np.concatenate([source_encodings_cat, target_encodings_cat], axis=0)\n",
    "\n",
    "# Perform PCA\n",
    "pca = PCA(n_components=2)\n",
    "pca_encodings = pca.fit_transform(encodings_matrix)\n",
    "\n",
    "# Extract transformed source and target encodings\n",
    "pca_source_encodings = pca_encodings[:len(source_encodings_cat)]\n",
    "pca_target_encodings = pca_encodings[len(source_encodings_cat):]\n",
    "\n",
    "# Visualize PCA-transformed encodings\n",
    "plt.figure(figsize=(8, 6))\n",
    "for i in range(len(pca_source_encodings)):\n",
    "    plt.scatter(pca_source_encodings[i, 0], pca_source_encodings[i, 1], color=f'C{i}', marker='o', label='Source' if i == 0 else \"\")\n",
    "    plt.scatter(pca_target_encodings[i, 0], pca_target_encodings[i, 1], color=f'C{i}', marker='x', label='Target' if i == 0 else \"\")\n",
    "plt.xlabel('PCA Component 1')\n",
    "plt.ylabel('PCA Component 2')\n",
    "plt.legend()\n",
    "plt.title('PCA-transformed Source and Target Encodings')\n",
    "plt.show()"
   ]
  },
  {
   "cell_type": "code",
   "execution_count": 27,
   "metadata": {},
   "outputs": [],
   "source": [
    "# Loop through a 10 batches, append the source, target encodings\n",
    "prediction_encodings = []\n",
    "target_encodings = []\n",
    "\n",
    "batches = 0\n",
    "\n",
    "with torch.no_grad():\n",
    "    for batch in model.train_dataloader():\n",
    "        results = model.shared_evaluation(batch, 0)\n",
    "        prediction_encodings.append(results[\"prediction\"].detach())\n",
    "        target_encodings.append(results[\"target\"].detach())\n",
    "        batches += 1\n",
    "        if batches > 10:\n",
    "            break\n"
   ]
  },
  {
   "cell_type": "code",
   "execution_count": 28,
   "metadata": {},
   "outputs": [
    {
     "data": {
      "image/png": "[encoded data removed]",
      "text/plain": [
       "<Figure size 800x600 with 1 Axes>"
      ]
     },
     "metadata": {},
     "output_type": "display_data"
    }
   ],
   "source": [
    "# Now PCA down the source and target encodings\n",
    "\n",
    "# Sketch of changes:\n",
    "# - Concatenate the source and target encodings into a single matrix\n",
    "# - Perform PCA on the concatenated matrix to reduce dimensionality \n",
    "# - Extract the transformed source and target encodings from the PCA result\n",
    "# - Visualize the PCA-transformed encodings in a scatter plot with matching colors for source and target encodings\n",
    "# - Use 'o' for source encodings and 'x' for target encodings\n",
    "\n",
    "import numpy as np\n",
    "from sklearn.decomposition import PCA\n",
    "import matplotlib.pyplot as plt\n",
    "\n",
    "# Concatenate source and target encodings\n",
    "prediction_encodings_cat = np.concatenate([x.numpy() for x in prediction_encodings], axis=0)\n",
    "target_encodings_cat = np.concatenate([x.numpy() for x in target_encodings], axis=0)\n",
    "encodings_matrix = np.concatenate([prediction_encodings_cat, target_encodings_cat], axis=0)\n",
    "\n",
    "# Perform PCA\n",
    "pca = PCA(n_components=2)\n",
    "pca_encodings = pca.fit_transform(encodings_matrix)\n",
    "\n",
    "# Extract transformed source and target encodings\n",
    "pca_prediction_encodings = pca_encodings[:len(prediction_encodings_cat)]\n",
    "pca_target_encodings = pca_encodings[len(prediction_encodings_cat):]\n",
    "\n",
    "# Visualize PCA-transformed encodings\n",
    "plt.figure(figsize=(8, 6))\n",
    "for i in range(len(pca_prediction_encodings)):\n",
    "    plt.scatter(pca_prediction_encodings[i, 0], pca_prediction_encodings[i, 1], color=f'C{i}', marker='o', label='Prediction' if i == 0 else \"\")\n",
    "    plt.scatter(pca_target_encodings[i, 0], pca_target_encodings[i, 1], color=f'C{i}', marker='x', label='Target' if i == 0 else \"\")\n",
    "plt.xlabel('PCA Component 1')\n",
    "plt.ylabel('PCA Component 2')\n",
    "plt.legend()\n",
    "plt.title('PCA-transformed Prediction and Target Encodings')\n",
    "plt.show()"
   ]
  },
  {
   "cell_type": "code",
   "execution_count": null,
   "metadata": {},
   "outputs": [],
   "source": []
  }
 ],
 "metadata": {
  "kernelspec": {
   "display_name": "jepa",
   "language": "python",
   "name": "python3"
  },
  "language_info": {
   "codemirror_mode": {
    "name": "ipython",
    "version": 3
   },
   "file_extension": ".py",
   "mimetype": "text/x-python",
   "name": "python",
   "nbconvert_exporter": "python",
   "pygments_lexer": "ipython3",
   "version": "3.10.14"
  }
 },
 "nbformat": 4,
 "nbformat_minor": 2
}
