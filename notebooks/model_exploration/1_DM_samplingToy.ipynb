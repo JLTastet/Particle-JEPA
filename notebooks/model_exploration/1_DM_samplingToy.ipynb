{
 "cells": [
  {
   "cell_type": "markdown",
   "metadata": {},
   "source": [
    "# Build some toy models and how to sample them"
   ]
  },
  {
   "cell_type": "markdown",
   "metadata": {},
   "source": [
    "## Roadmap\n",
    "\n",
    "- Visualize the sampling process\n",
    "- Write the simplest possible sampling (random choice of innermost or outmost 4 hits)\n",
    "- Evaluate the circle fit error between innermost and outermost fits"
   ]
  },
  {
   "cell_type": "code",
   "execution_count": 1,
   "metadata": {},
   "outputs": [],
   "source": [
    "# use autoreload\n",
    "%load_ext autoreload\n",
    "%autoreload 2\n",
    "\n",
    "import yaml\n",
    "import numpy as np\n",
    "from tqdm import tqdm\n",
    "import seaborn as sns\n",
    "import matplotlib.pyplot as plt\n",
    "\n",
    "# imports\n",
    "from jepa.modules import JEPA"
   ]
  },
  {
   "cell_type": "markdown",
   "metadata": {},
   "source": [
    "## Explore Model Loading"
   ]
  },
  {
   "cell_type": "code",
   "execution_count": 2,
   "metadata": {},
   "outputs": [],
   "source": [
    "with open(\"configs/1_testing.yaml\", \"r\") as f:\n",
    "    config = yaml.load(f, Loader=yaml.FullLoader)"
   ]
  },
  {
   "cell_type": "code",
   "execution_count": 3,
   "metadata": {},
   "outputs": [],
   "source": [
    "model = JEPA(**config)"
   ]
  },
  {
   "cell_type": "code",
   "execution_count": 4,
   "metadata": {},
   "outputs": [
    {
     "data": {
      "text/plain": [
       "JEPA(\n",
       "  (encoder): JEPAEncoder(\n",
       "    (encoder): Transformer(\n",
       "      (input_encoder): Sequential(\n",
       "        (0): Linear(in_features=2, out_features=256, bias=True)\n",
       "        (1): Dropout(p=0.0, inplace=False)\n",
       "        (2): SiLU()\n",
       "        (3): Linear(in_features=256, out_features=128, bias=True)\n",
       "      )\n",
       "      (encoder_layers): ModuleList(\n",
       "        (0-11): 12 x AttentionBlock(\n",
       "          (self_attn): MultiheadAttention(\n",
       "            (out_proj): NonDynamicallyQuantizableLinear(in_features=128, out_features=128, bias=True)\n",
       "          )\n",
       "          (feed_forward): Sequential(\n",
       "            (0): Linear(in_features=128, out_features=256, bias=True)\n",
       "            (1): SiLU()\n",
       "            (2): Dropout(p=0.0, inplace=False)\n",
       "            (3): Linear(in_features=256, out_features=128, bias=True)\n",
       "          )\n",
       "          (dropout): Dropout(p=0.0, inplace=False)\n",
       "          (norm_self_attn): SetNorm()\n",
       "          (norm_ff): SetNorm()\n",
       "          (activation): SiLU()\n",
       "        )\n",
       "      )\n",
       "    )\n",
       "    (aggregator): Aggregator()\n",
       "  )\n",
       "  (ema_encoder): JEPAEncoder(\n",
       "    (encoder): Transformer(\n",
       "      (input_encoder): Sequential(\n",
       "        (0): Linear(in_features=2, out_features=256, bias=True)\n",
       "        (1): Dropout(p=0.0, inplace=False)\n",
       "        (2): SiLU()\n",
       "        (3): Linear(in_features=256, out_features=128, bias=True)\n",
       "      )\n",
       "      (encoder_layers): ModuleList(\n",
       "        (0-11): 12 x AttentionBlock(\n",
       "          (self_attn): MultiheadAttention(\n",
       "            (out_proj): NonDynamicallyQuantizableLinear(in_features=128, out_features=128, bias=True)\n",
       "          )\n",
       "          (feed_forward): Sequential(\n",
       "            (0): Linear(in_features=128, out_features=256, bias=True)\n",
       "            (1): SiLU()\n",
       "            (2): Dropout(p=0.0, inplace=False)\n",
       "            (3): Linear(in_features=256, out_features=128, bias=True)\n",
       "          )\n",
       "          (dropout): Dropout(p=0.0, inplace=False)\n",
       "          (norm_self_attn): SetNorm()\n",
       "          (norm_ff): SetNorm()\n",
       "          (activation): SiLU()\n",
       "        )\n",
       "      )\n",
       "    )\n",
       "    (aggregator): Aggregator()\n",
       "  )\n",
       "  (predictor): Predictor(\n",
       "    (radial_smearing): GaussianSmearing()\n",
       "    (angular_smearing): GaussianSmearing()\n",
       "    (predictor): Sequential(\n",
       "      (0): Linear(in_features=328, out_features=256, bias=True)\n",
       "      (1): Dropout(p=0.0, inplace=False)\n",
       "      (2): SiLU()\n",
       "      (3): Linear(in_features=256, out_features=256, bias=True)\n",
       "      (4): Dropout(p=0.0, inplace=False)\n",
       "      (5): SiLU()\n",
       "      (6): Linear(in_features=256, out_features=256, bias=True)\n",
       "      (7): Dropout(p=0.0, inplace=False)\n",
       "      (8): SiLU()\n",
       "      (9): Linear(in_features=256, out_features=128, bias=True)\n",
       "    )\n",
       "  )\n",
       ")"
      ]
     },
     "execution_count": 4,
     "metadata": {},
     "output_type": "execute_result"
    }
   ],
   "source": [
    "model"
   ]
  },
  {
   "cell_type": "code",
   "execution_count": 5,
   "metadata": {},
   "outputs": [
    {
     "name": "stdout",
     "output_type": "stream",
     "text": [
      "(tensor([[[-0.8417, -0.1618],\n",
      "         [-2.2656,  0.3029],\n",
      "         [-0.4790, -0.1434],\n",
      "         [-2.8650,  0.8899],\n",
      "         [-1.2075, -0.1283],\n",
      "         [-1.9259,  0.1019],\n",
      "         [-1.5709, -0.0411],\n",
      "         [-2.5819,  0.5645]]]), tensor([[True, True, True, True, True, True, True, True]]), [Event(particles=         vx        vy   vz        pt     pphi  dimension  charge  particle_id  \\\n",
      "0  0.116666  0.003119  0.0  2.570586  1.93154          2      -1            0   \n",
      "\n",
      "        d0       phi  \n",
      "0  0.02134 -1.514617  , hits=          x         y  particle_id\n",
      "0 -0.841727 -0.161831            0\n",
      "1 -2.265560  0.302869            0\n",
      "2 -0.479003 -0.143374            0\n",
      "3 -2.864960  0.889945            0\n",
      "4 -1.207487 -0.128320            0\n",
      "5 -1.925877  0.101904            0\n",
      "6 -1.570892 -0.041072            0\n",
      "7 -2.581873  0.564471            0), tracks=[[2 0 4 6 5 1 7]\n",
      " [0 4 6 5 1 7 3]], detector=Detector(dimension=2), layers: [{'shape': 'cylinder', 'radius': 0.5, 'length': None}, {'shape': 'cylinder', 'radius': 0.8571428571428572, 'length': None}, {'shape': 'cylinder', 'radius': 1.2142857142857144, 'length': None}, {'shape': 'cylinder', 'radius': 1.5714285714285714, 'length': None}, {'shape': 'cylinder', 'radius': 1.9285714285714286, 'length': None}, {'shape': 'cylinder', 'radius': 2.2857142857142856, 'length': None}, {'shape': 'cylinder', 'radius': 2.642857142857143, 'length': None}, {'shape': 'cylinder', 'radius': 3.0, 'length': None}])])\n"
     ]
    }
   ],
   "source": [
    "for batch in model.train_dataloader():\n",
    "    print(batch)\n",
    "    break"
   ]
  },
  {
   "cell_type": "code",
   "execution_count": 6,
   "metadata": {},
   "outputs": [
    {
     "name": "stdout",
     "output_type": "stream",
     "text": [
      "torch.Size([1, 8, 2]) torch.Size([1, 8])\n",
      "batch_randoms: tensor([0.7280])\n",
      "target_mask: tensor([[ True, False,  True, False,  True, False,  True, False]])\n",
      "target_mask: tensor([[ True, False,  True, False,  True, False,  True, False]])\n",
      "torch.Size([1, 8]) torch.Size([1, 8])\n"
     ]
    }
   ],
   "source": [
    "for batch in model.train_dataloader():\n",
    "    x, mask, events_df = batch\n",
    "    print(x.shape, mask.shape)\n",
    "\n",
    "    context_mask, target_mask, inner_target_flag = model.sample_context(x, mask)\n",
    "    print(context_mask.shape, target_mask.shape)\n",
    "\n",
    "    break\n"
   ]
  },
  {
   "cell_type": "code",
   "execution_count": 7,
   "metadata": {},
   "outputs": [
    {
     "data": {
      "text/plain": [
       "tensor([[False,  True, False,  True, False,  True, False,  True]])"
      ]
     },
     "execution_count": 7,
     "metadata": {},
     "output_type": "execute_result"
    }
   ],
   "source": [
    "context_mask"
   ]
  },
  {
   "cell_type": "code",
   "execution_count": 8,
   "metadata": {},
   "outputs": [
    {
     "data": {
      "text/plain": [
       "tensor([[ True, False,  True, False,  True, False,  True, False]])"
      ]
     },
     "execution_count": 8,
     "metadata": {},
     "output_type": "execute_result"
    }
   ],
   "source": [
    "target_mask"
   ]
  },
  {
   "cell_type": "code",
   "execution_count": 9,
   "metadata": {},
   "outputs": [
    {
     "data": {
      "image/png": "[encoded data removed]",
      "text/plain": [
       "<Figure size 640x480 with 1 Axes>"
      ]
     },
     "metadata": {},
     "output_type": "display_data"
    }
   ],
   "source": [
    "# Plot the x positions, along with whether they are in the context or target mask\n",
    "plt.scatter(x[..., 0], x[..., 1], c=target_mask)\n",
    "plt.show()"
   ]
  },
  {
   "cell_type": "markdown",
   "metadata": {},
   "source": [
    "## Circle Fit"
   ]
  },
  {
   "cell_type": "code",
   "execution_count": 10,
   "metadata": {},
   "outputs": [],
   "source": [
    "from jepa.utils import fit_circle"
   ]
  },
  {
   "cell_type": "code",
   "execution_count": 26,
   "metadata": {},
   "outputs": [
    {
     "data": {
      "text/html": [
       "<div>\n",
       "<style scoped>\n",
       "    .dataframe tbody tr th:only-of-type {\n",
       "        vertical-align: middle;\n",
       "    }\n",
       "\n",
       "    .dataframe tbody tr th {\n",
       "        vertical-align: top;\n",
       "    }\n",
       "\n",
       "    .dataframe thead th {\n",
       "        text-align: right;\n",
       "    }\n",
       "</style>\n",
       "<table border=\"1\" class=\"dataframe\">\n",
       "  <thead>\n",
       "    <tr style=\"text-align: right;\">\n",
       "      <th></th>\n",
       "      <th>vx</th>\n",
       "      <th>vy</th>\n",
       "      <th>vz</th>\n",
       "      <th>pt</th>\n",
       "      <th>pphi</th>\n",
       "      <th>dimension</th>\n",
       "      <th>charge</th>\n",
       "      <th>particle_id</th>\n",
       "      <th>d0</th>\n",
       "      <th>phi</th>\n",
       "    </tr>\n",
       "  </thead>\n",
       "  <tbody>\n",
       "    <tr>\n",
       "      <th>0</th>\n",
       "      <td>-0.061887</td>\n",
       "      <td>0.097581</td>\n",
       "      <td>0.0</td>\n",
       "      <td>2.527607</td>\n",
       "      <td>2.930841</td>\n",
       "      <td>2</td>\n",
       "      <td>1</td>\n",
       "      <td>0</td>\n",
       "      <td>0.070303</td>\n",
       "      <td>-3.096031</td>\n",
       "    </tr>\n",
       "  </tbody>\n",
       "</table>\n",
       "</div>"
      ],
      "text/plain": [
       "         vx        vy   vz        pt      pphi  dimension  charge  \\\n",
       "0 -0.061887  0.097581  0.0  2.527607  2.930841          2       1   \n",
       "\n",
       "   particle_id        d0       phi  \n",
       "0            0  0.070303 -3.096031  "
      ]
     },
     "execution_count": 26,
     "metadata": {},
     "output_type": "execute_result"
    }
   ],
   "source": [
    "events_df[0].particles"
   ]
  },
  {
   "cell_type": "code",
   "execution_count": 30,
   "metadata": {},
   "outputs": [],
   "source": [
    "target_params = fit_circle(x[target_mask][:, 0], x[target_mask][:, 1])\n",
    "source_params = fit_circle(x[context_mask][:, 0], x[context_mask][:, 1])"
   ]
  },
  {
   "cell_type": "code",
   "execution_count": 28,
   "metadata": {},
   "outputs": [
    {
     "data": {
      "text/plain": [
       "tensor([ 0.6076, -2.2035])"
      ]
     },
     "execution_count": 28,
     "metadata": {},
     "output_type": "execute_result"
    }
   ],
   "source": [
    "x[context_mask][0]"
   ]
  },
  {
   "cell_type": "code",
   "execution_count": 32,
   "metadata": {},
   "outputs": [
    {
     "data": {
      "text/plain": [
       "((2.409793391682388, -0.4311825658999078, 2.5276068836224663),\n",
       " (2.409790776381923, -0.43118557485410286, 2.5276030095543787))"
      ]
     },
     "execution_count": 32,
     "metadata": {},
     "output_type": "execute_result"
    }
   ],
   "source": [
    "target_params, source_params"
   ]
  },
  {
   "cell_type": "code",
   "execution_count": 36,
   "metadata": {},
   "outputs": [
    {
     "data": {
      "image/png": "[encoded data removed]",
      "text/plain": [
       "<Figure size 640x480 with 1 Axes>"
      ]
     },
     "metadata": {},
     "output_type": "display_data"
    },
    {
     "data": {
      "image/png": "[encoded data removed]",
      "text/plain": [
       "<Figure size 640x480 with 1 Axes>"
      ]
     },
     "metadata": {},
     "output_type": "display_data"
    }
   ],
   "source": [
    "import matplotlib.pyplot as plt\n",
    "import numpy as np\n",
    "\n",
    "# Convert tensors to numpy arrays\n",
    "x_np = x.numpy()\n",
    "target_mask_np = target_mask.numpy()\n",
    "context_mask_np = context_mask.numpy()\n",
    "\n",
    "# First plot the x positions, with their mask color\n",
    "plt.scatter(x_np[..., 0], x_np[..., 1], c=target_mask_np)\n",
    "plt.show()\n",
    "\n",
    "# Plot the circles given by target_params and source_params (center x, center y and radius)\n",
    "fig, ax = plt.subplots()\n",
    "ax.scatter(x_np[..., 0], x_np[..., 1], c=target_mask_np)\n",
    "\n",
    "# Plot the center points\n",
    "ax.scatter(target_params[0], target_params[1], color='r', label='Target Center')\n",
    "ax.scatter(source_params[0], source_params[1], color='b', label='Source Center')\n",
    "\n",
    "# Add the target circle\n",
    "target_circle = plt.Circle((target_params[0], target_params[1]), target_params[2], color='r', fill=False)\n",
    "ax.add_artist(target_circle)\n",
    "\n",
    "# Add the source circle\n",
    "source_circle = plt.Circle((source_params[0], source_params[1]), source_params[2], color='b', fill=False)\n",
    "ax.add_artist(source_circle)\n",
    "\n",
    "# Set the aspect of the plot to be equal\n",
    "ax.set_aspect('equal')\n",
    "\n",
    "# Set the limits of the plot to ensure the circles are fully visible\n",
    "ax.set_xlim(np.min(x_np[..., 0]) - 1, np.max(x_np[..., 0]) + 1)\n",
    "ax.set_ylim(np.min(x_np[..., 1]) - 1, np.max(x_np[..., 1]) + 1)\n",
    "\n",
    "# Add a legend\n",
    "ax.legend()\n",
    "\n",
    "plt.show()"
   ]
  },
  {
   "cell_type": "code",
   "execution_count": 38,
   "metadata": {},
   "outputs": [],
   "source": [
    "error = np.mean(np.array(source_params) - np.array(target_params))"
   ]
  },
  {
   "cell_type": "code",
   "execution_count": 39,
   "metadata": {},
   "outputs": [
    {
     "data": {
      "text/plain": [
       "-3.1661075826083795e-06"
      ]
     },
     "execution_count": 39,
     "metadata": {},
     "output_type": "execute_result"
    }
   ],
   "source": [
    "error"
   ]
  },
  {
   "cell_type": "code",
   "execution_count": null,
   "metadata": {},
   "outputs": [],
   "source": []
  }
 ],
 "metadata": {
  "kernelspec": {
   "display_name": "jepa",
   "language": "python",
   "name": "python3"
  },
  "language_info": {
   "codemirror_mode": {
    "name": "ipython",
    "version": 3
   },
   "file_extension": ".py",
   "mimetype": "text/x-python",
   "name": "python",
   "nbconvert_exporter": "python",
   "pygments_lexer": "ipython3",
   "version": "3.10.14"
  }
 },
 "nbformat": 4,
 "nbformat_minor": 2
}
